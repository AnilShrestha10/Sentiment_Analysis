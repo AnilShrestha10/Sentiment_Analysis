{
  "cells": [
    {
      "cell_type": "markdown",
      "metadata": {
        "gradient": {
          "editing": false
        },
        "id": "FIEHBEJ2VgD3"
      },
      "source": [
        "# Sentiment Analysis: Negative review detection"
      ]
    },
    {
      "cell_type": "markdown",
      "metadata": {
        "gradient": {
          "editing": false
        },
        "id": "rMwabuxyVgD5"
      },
      "source": [
        "Description of each feature in the dataset:\n",
        "1. tconst: This is an alphanumeric unique identifier for each title in the dataset, typically used by IMDb.\n",
        "\n",
        "2. title_type: Indicates the format of the title, e.g., movie, short film, etc.\n",
        "\n",
        "3. primary_title: The main title by which the movie or show is known.\n",
        "\n",
        "4. original_title: The original title in the movie's or show's original language.\n",
        "\n",
        "5. start_year: The year in which the title was released or started airing.\n",
        "\n",
        "6. end_year: The year in which the title ended, especially relevant for TV series. If the value is \\N, it indicates that the end year is not applicable, often for movies.\n",
        "\n",
        "7. runtime_minutes: The duration of the movie in minutes.\n",
        "\n",
        "8. is_adult: A binary indicator (0 or 1) where 0 means the title is not adult content, and 1 indicates it is adult content.\n",
        "\n",
        "9. genres: A comma-separated list of genres applicable to the title.\n",
        "\n",
        "10. average_rating: The average rating of the title on IMDb.\n",
        "\n",
        "11. votes: The number of votes the title has received on IMDb.\n",
        "\n",
        "12. review: A text review provided by a user for the title.\n",
        "\n",
        "13. rating: A numerical rating provided by the reviewer, which seems to be separate from the average_rating.\n",
        "\n",
        "14. sp: Sentiment polarity; indicating the sentiment of the review, either negative (neg) or positive (pos).\n",
        "\n",
        "15. pos: Indicates if the review is positive or negative. '0' indicates negative review and '1' indicates positive revire\n",
        "\n",
        "16. ds_part: Indicates which part of the dataset the record belongs to, for example, 'train' for training set or 'test' for testing set.\n",
        "\n",
        "17. idx: A unique identifier or index for each row in this particular sample of the dataset."
      ]
    },
    {
      "cell_type": "markdown",
      "metadata": {
        "gradient": {
          "editing": false
        },
        "id": "EDIXjqE3VgD6"
      },
      "source": [
        "## Import Libraries and Data preprocessing"
      ]
    },
    {
      "cell_type": "markdown",
      "metadata": {
        "gradient": {
          "editing": false
        },
        "id": "MrtZJ55xVgD6"
      },
      "source": [
        "### Load Necessary Libraries"
      ]
    },
    {
      "cell_type": "code",
      "execution_count": 83,
      "metadata": {
        "gradient": {
          "editing": false
        },
        "id": "AzsR4GB5VgD6"
      },
      "outputs": [],
      "source": [
        "import numpy as np\n",
        "import pandas as pd\n",
        "import matplotlib.pyplot as plt\n",
        "import seaborn as sns\n",
        "from IPython.display import HTML\n",
        "import sklearn.metrics as metrics\n",
        "from sklearn.feature_extraction.text import TfidfVectorizer\n",
        "from sklearn.linear_model import LogisticRegression\n",
        "from lightgbm import LGBMClassifier\n",
        "from sklearn.ensemble import RandomForestClassifier\n",
        "from tqdm import tqdm, tqdm_notebook\n",
        "import nltk\n",
        "\n",
        "#Suppress warnings\n",
        "import warnings\n",
        "warnings.filterwarnings(\"ignore\")"
      ]
    },
    {
      "cell_type": "code",
      "execution_count": 84,
      "metadata": {
        "gradient": {
          "editing": false
        },
        "scrolled": true,
        "id": "hoD34rj4VgD7"
      },
      "outputs": [],
      "source": [
        "#Visualization and Progress Bar Configuration\n",
        "%matplotlib inline\n",
        "%config InlineBackend.figure_format = 'retina'  # Enhanced display in notebooks\n",
        "plt.style.use('seaborn-whitegrid') # Use a white grid theme for seaborn\n",
        "tqdm.pandas(desc=\"Progress:\")"
      ]
    },
    {
      "cell_type": "markdown",
      "metadata": {
        "gradient": {
          "editing": false
        },
        "id": "FIVFQDJJVgD7"
      },
      "source": [
        "### Load Data"
      ]
    },
    {
      "cell_type": "code",
      "execution_count": 85,
      "metadata": {
        "gradient": {
          "editing": false
        },
        "id": "yROiJhpeVgD7"
      },
      "outputs": [],
      "source": [
        "df_reviews = pd.read_csv('/content/imdb_reviews.tsv', sep='\\t')"
      ]
    },
    {
      "cell_type": "code",
      "execution_count": 86,
      "metadata": {
        "gradient": {
          "editing": false
        },
        "colab": {
          "base_uri": "https://localhost:8080/",
          "height": 625
        },
        "id": "uq0Ar5QJVgD7",
        "outputId": "d3c3678d-e424-4bc7-a18d-ba9b7d4926e9"
      },
      "outputs": [
        {
          "output_type": "execute_result",
          "data": {
            "text/plain": [
              "      tconst title_type primary_title original_title  start_year end_year  \\\n",
              "0  tt0068152      movie             $              $        1971       \\N   \n",
              "1  tt0068152      movie             $              $        1971       \\N   \n",
              "2  tt0313150      short          '15'           '15'        2002       \\N   \n",
              "3  tt0313150      short          '15'           '15'        2002       \\N   \n",
              "4  tt0313150      short          '15'           '15'        2002       \\N   \n",
              "\n",
              "  runtime_minutes  is_adult              genres  average_rating   votes  \\\n",
              "0             121         0  Comedy,Crime,Drama             6.3  2218.0   \n",
              "1             121         0  Comedy,Crime,Drama             6.3  2218.0   \n",
              "2              25         0  Comedy,Drama,Short             6.3   184.0   \n",
              "3              25         0  Comedy,Drama,Short             6.3   184.0   \n",
              "4              25         0  Comedy,Drama,Short             6.3   184.0   \n",
              "\n",
              "                                              review  rating   sp  pos  \\\n",
              "0  The pakage implies that Warren Beatty and Gold...       1  neg    0   \n",
              "1  How the hell did they get this made?! Presenti...       1  neg    0   \n",
              "2  There is no real story the film seems more lik...       3  neg    0   \n",
              "3  Um .... a serious film about troubled teens in...       7  pos    1   \n",
              "4  I'm totally agree with GarryJohal from Singapo...       9  pos    1   \n",
              "\n",
              "  ds_part   idx  \n",
              "0   train  8335  \n",
              "1   train  8336  \n",
              "2    test  2489  \n",
              "3    test  9280  \n",
              "4    test  9281  "
            ],
            "text/html": [
              "\n",
              "  <div id=\"df-52835a40-5c74-42aa-aa45-1e10b8a54657\" class=\"colab-df-container\">\n",
              "    <div>\n",
              "<style scoped>\n",
              "    .dataframe tbody tr th:only-of-type {\n",
              "        vertical-align: middle;\n",
              "    }\n",
              "\n",
              "    .dataframe tbody tr th {\n",
              "        vertical-align: top;\n",
              "    }\n",
              "\n",
              "    .dataframe thead th {\n",
              "        text-align: right;\n",
              "    }\n",
              "</style>\n",
              "<table border=\"1\" class=\"dataframe\">\n",
              "  <thead>\n",
              "    <tr style=\"text-align: right;\">\n",
              "      <th></th>\n",
              "      <th>tconst</th>\n",
              "      <th>title_type</th>\n",
              "      <th>primary_title</th>\n",
              "      <th>original_title</th>\n",
              "      <th>start_year</th>\n",
              "      <th>end_year</th>\n",
              "      <th>runtime_minutes</th>\n",
              "      <th>is_adult</th>\n",
              "      <th>genres</th>\n",
              "      <th>average_rating</th>\n",
              "      <th>votes</th>\n",
              "      <th>review</th>\n",
              "      <th>rating</th>\n",
              "      <th>sp</th>\n",
              "      <th>pos</th>\n",
              "      <th>ds_part</th>\n",
              "      <th>idx</th>\n",
              "    </tr>\n",
              "  </thead>\n",
              "  <tbody>\n",
              "    <tr>\n",
              "      <th>0</th>\n",
              "      <td>tt0068152</td>\n",
              "      <td>movie</td>\n",
              "      <td>$</td>\n",
              "      <td>$</td>\n",
              "      <td>1971</td>\n",
              "      <td>\\N</td>\n",
              "      <td>121</td>\n",
              "      <td>0</td>\n",
              "      <td>Comedy,Crime,Drama</td>\n",
              "      <td>6.3</td>\n",
              "      <td>2218.0</td>\n",
              "      <td>The pakage implies that Warren Beatty and Gold...</td>\n",
              "      <td>1</td>\n",
              "      <td>neg</td>\n",
              "      <td>0</td>\n",
              "      <td>train</td>\n",
              "      <td>8335</td>\n",
              "    </tr>\n",
              "    <tr>\n",
              "      <th>1</th>\n",
              "      <td>tt0068152</td>\n",
              "      <td>movie</td>\n",
              "      <td>$</td>\n",
              "      <td>$</td>\n",
              "      <td>1971</td>\n",
              "      <td>\\N</td>\n",
              "      <td>121</td>\n",
              "      <td>0</td>\n",
              "      <td>Comedy,Crime,Drama</td>\n",
              "      <td>6.3</td>\n",
              "      <td>2218.0</td>\n",
              "      <td>How the hell did they get this made?! Presenti...</td>\n",
              "      <td>1</td>\n",
              "      <td>neg</td>\n",
              "      <td>0</td>\n",
              "      <td>train</td>\n",
              "      <td>8336</td>\n",
              "    </tr>\n",
              "    <tr>\n",
              "      <th>2</th>\n",
              "      <td>tt0313150</td>\n",
              "      <td>short</td>\n",
              "      <td>'15'</td>\n",
              "      <td>'15'</td>\n",
              "      <td>2002</td>\n",
              "      <td>\\N</td>\n",
              "      <td>25</td>\n",
              "      <td>0</td>\n",
              "      <td>Comedy,Drama,Short</td>\n",
              "      <td>6.3</td>\n",
              "      <td>184.0</td>\n",
              "      <td>There is no real story the film seems more lik...</td>\n",
              "      <td>3</td>\n",
              "      <td>neg</td>\n",
              "      <td>0</td>\n",
              "      <td>test</td>\n",
              "      <td>2489</td>\n",
              "    </tr>\n",
              "    <tr>\n",
              "      <th>3</th>\n",
              "      <td>tt0313150</td>\n",
              "      <td>short</td>\n",
              "      <td>'15'</td>\n",
              "      <td>'15'</td>\n",
              "      <td>2002</td>\n",
              "      <td>\\N</td>\n",
              "      <td>25</td>\n",
              "      <td>0</td>\n",
              "      <td>Comedy,Drama,Short</td>\n",
              "      <td>6.3</td>\n",
              "      <td>184.0</td>\n",
              "      <td>Um .... a serious film about troubled teens in...</td>\n",
              "      <td>7</td>\n",
              "      <td>pos</td>\n",
              "      <td>1</td>\n",
              "      <td>test</td>\n",
              "      <td>9280</td>\n",
              "    </tr>\n",
              "    <tr>\n",
              "      <th>4</th>\n",
              "      <td>tt0313150</td>\n",
              "      <td>short</td>\n",
              "      <td>'15'</td>\n",
              "      <td>'15'</td>\n",
              "      <td>2002</td>\n",
              "      <td>\\N</td>\n",
              "      <td>25</td>\n",
              "      <td>0</td>\n",
              "      <td>Comedy,Drama,Short</td>\n",
              "      <td>6.3</td>\n",
              "      <td>184.0</td>\n",
              "      <td>I'm totally agree with GarryJohal from Singapo...</td>\n",
              "      <td>9</td>\n",
              "      <td>pos</td>\n",
              "      <td>1</td>\n",
              "      <td>test</td>\n",
              "      <td>9281</td>\n",
              "    </tr>\n",
              "  </tbody>\n",
              "</table>\n",
              "</div>\n",
              "    <div class=\"colab-df-buttons\">\n",
              "\n",
              "  <div class=\"colab-df-container\">\n",
              "    <button class=\"colab-df-convert\" onclick=\"convertToInteractive('df-52835a40-5c74-42aa-aa45-1e10b8a54657')\"\n",
              "            title=\"Convert this dataframe to an interactive table.\"\n",
              "            style=\"display:none;\">\n",
              "\n",
              "  <svg xmlns=\"http://www.w3.org/2000/svg\" height=\"24px\" viewBox=\"0 -960 960 960\">\n",
              "    <path d=\"M120-120v-720h720v720H120Zm60-500h600v-160H180v160Zm220 220h160v-160H400v160Zm0 220h160v-160H400v160ZM180-400h160v-160H180v160Zm440 0h160v-160H620v160ZM180-180h160v-160H180v160Zm440 0h160v-160H620v160Z\"/>\n",
              "  </svg>\n",
              "    </button>\n",
              "\n",
              "  <style>\n",
              "    .colab-df-container {\n",
              "      display:flex;\n",
              "      gap: 12px;\n",
              "    }\n",
              "\n",
              "    .colab-df-convert {\n",
              "      background-color: #E8F0FE;\n",
              "      border: none;\n",
              "      border-radius: 50%;\n",
              "      cursor: pointer;\n",
              "      display: none;\n",
              "      fill: #1967D2;\n",
              "      height: 32px;\n",
              "      padding: 0 0 0 0;\n",
              "      width: 32px;\n",
              "    }\n",
              "\n",
              "    .colab-df-convert:hover {\n",
              "      background-color: #E2EBFA;\n",
              "      box-shadow: 0px 1px 2px rgba(60, 64, 67, 0.3), 0px 1px 3px 1px rgba(60, 64, 67, 0.15);\n",
              "      fill: #174EA6;\n",
              "    }\n",
              "\n",
              "    .colab-df-buttons div {\n",
              "      margin-bottom: 4px;\n",
              "    }\n",
              "\n",
              "    [theme=dark] .colab-df-convert {\n",
              "      background-color: #3B4455;\n",
              "      fill: #D2E3FC;\n",
              "    }\n",
              "\n",
              "    [theme=dark] .colab-df-convert:hover {\n",
              "      background-color: #434B5C;\n",
              "      box-shadow: 0px 1px 3px 1px rgba(0, 0, 0, 0.15);\n",
              "      filter: drop-shadow(0px 1px 2px rgba(0, 0, 0, 0.3));\n",
              "      fill: #FFFFFF;\n",
              "    }\n",
              "  </style>\n",
              "\n",
              "    <script>\n",
              "      const buttonEl =\n",
              "        document.querySelector('#df-52835a40-5c74-42aa-aa45-1e10b8a54657 button.colab-df-convert');\n",
              "      buttonEl.style.display =\n",
              "        google.colab.kernel.accessAllowed ? 'block' : 'none';\n",
              "\n",
              "      async function convertToInteractive(key) {\n",
              "        const element = document.querySelector('#df-52835a40-5c74-42aa-aa45-1e10b8a54657');\n",
              "        const dataTable =\n",
              "          await google.colab.kernel.invokeFunction('convertToInteractive',\n",
              "                                                    [key], {});\n",
              "        if (!dataTable) return;\n",
              "\n",
              "        const docLinkHtml = 'Like what you see? Visit the ' +\n",
              "          '<a target=\"_blank\" href=https://colab.research.google.com/notebooks/data_table.ipynb>data table notebook</a>'\n",
              "          + ' to learn more about interactive tables.';\n",
              "        element.innerHTML = '';\n",
              "        dataTable['output_type'] = 'display_data';\n",
              "        await google.colab.output.renderOutput(dataTable, element);\n",
              "        const docLink = document.createElement('div');\n",
              "        docLink.innerHTML = docLinkHtml;\n",
              "        element.appendChild(docLink);\n",
              "      }\n",
              "    </script>\n",
              "  </div>\n",
              "\n",
              "\n",
              "<div id=\"df-11cddc6a-f423-4202-91b7-d23016dae2c0\">\n",
              "  <button class=\"colab-df-quickchart\" onclick=\"quickchart('df-11cddc6a-f423-4202-91b7-d23016dae2c0')\"\n",
              "            title=\"Suggest charts\"\n",
              "            style=\"display:none;\">\n",
              "\n",
              "<svg xmlns=\"http://www.w3.org/2000/svg\" height=\"24px\"viewBox=\"0 0 24 24\"\n",
              "     width=\"24px\">\n",
              "    <g>\n",
              "        <path d=\"M19 3H5c-1.1 0-2 .9-2 2v14c0 1.1.9 2 2 2h14c1.1 0 2-.9 2-2V5c0-1.1-.9-2-2-2zM9 17H7v-7h2v7zm4 0h-2V7h2v10zm4 0h-2v-4h2v4z\"/>\n",
              "    </g>\n",
              "</svg>\n",
              "  </button>\n",
              "\n",
              "<style>\n",
              "  .colab-df-quickchart {\n",
              "      --bg-color: #E8F0FE;\n",
              "      --fill-color: #1967D2;\n",
              "      --hover-bg-color: #E2EBFA;\n",
              "      --hover-fill-color: #174EA6;\n",
              "      --disabled-fill-color: #AAA;\n",
              "      --disabled-bg-color: #DDD;\n",
              "  }\n",
              "\n",
              "  [theme=dark] .colab-df-quickchart {\n",
              "      --bg-color: #3B4455;\n",
              "      --fill-color: #D2E3FC;\n",
              "      --hover-bg-color: #434B5C;\n",
              "      --hover-fill-color: #FFFFFF;\n",
              "      --disabled-bg-color: #3B4455;\n",
              "      --disabled-fill-color: #666;\n",
              "  }\n",
              "\n",
              "  .colab-df-quickchart {\n",
              "    background-color: var(--bg-color);\n",
              "    border: none;\n",
              "    border-radius: 50%;\n",
              "    cursor: pointer;\n",
              "    display: none;\n",
              "    fill: var(--fill-color);\n",
              "    height: 32px;\n",
              "    padding: 0;\n",
              "    width: 32px;\n",
              "  }\n",
              "\n",
              "  .colab-df-quickchart:hover {\n",
              "    background-color: var(--hover-bg-color);\n",
              "    box-shadow: 0 1px 2px rgba(60, 64, 67, 0.3), 0 1px 3px 1px rgba(60, 64, 67, 0.15);\n",
              "    fill: var(--button-hover-fill-color);\n",
              "  }\n",
              "\n",
              "  .colab-df-quickchart-complete:disabled,\n",
              "  .colab-df-quickchart-complete:disabled:hover {\n",
              "    background-color: var(--disabled-bg-color);\n",
              "    fill: var(--disabled-fill-color);\n",
              "    box-shadow: none;\n",
              "  }\n",
              "\n",
              "  .colab-df-spinner {\n",
              "    border: 2px solid var(--fill-color);\n",
              "    border-color: transparent;\n",
              "    border-bottom-color: var(--fill-color);\n",
              "    animation:\n",
              "      spin 1s steps(1) infinite;\n",
              "  }\n",
              "\n",
              "  @keyframes spin {\n",
              "    0% {\n",
              "      border-color: transparent;\n",
              "      border-bottom-color: var(--fill-color);\n",
              "      border-left-color: var(--fill-color);\n",
              "    }\n",
              "    20% {\n",
              "      border-color: transparent;\n",
              "      border-left-color: var(--fill-color);\n",
              "      border-top-color: var(--fill-color);\n",
              "    }\n",
              "    30% {\n",
              "      border-color: transparent;\n",
              "      border-left-color: var(--fill-color);\n",
              "      border-top-color: var(--fill-color);\n",
              "      border-right-color: var(--fill-color);\n",
              "    }\n",
              "    40% {\n",
              "      border-color: transparent;\n",
              "      border-right-color: var(--fill-color);\n",
              "      border-top-color: var(--fill-color);\n",
              "    }\n",
              "    60% {\n",
              "      border-color: transparent;\n",
              "      border-right-color: var(--fill-color);\n",
              "    }\n",
              "    80% {\n",
              "      border-color: transparent;\n",
              "      border-right-color: var(--fill-color);\n",
              "      border-bottom-color: var(--fill-color);\n",
              "    }\n",
              "    90% {\n",
              "      border-color: transparent;\n",
              "      border-bottom-color: var(--fill-color);\n",
              "    }\n",
              "  }\n",
              "</style>\n",
              "\n",
              "  <script>\n",
              "    async function quickchart(key) {\n",
              "      const quickchartButtonEl =\n",
              "        document.querySelector('#' + key + ' button');\n",
              "      quickchartButtonEl.disabled = true;  // To prevent multiple clicks.\n",
              "      quickchartButtonEl.classList.add('colab-df-spinner');\n",
              "      try {\n",
              "        const charts = await google.colab.kernel.invokeFunction(\n",
              "            'suggestCharts', [key], {});\n",
              "      } catch (error) {\n",
              "        console.error('Error during call to suggestCharts:', error);\n",
              "      }\n",
              "      quickchartButtonEl.classList.remove('colab-df-spinner');\n",
              "      quickchartButtonEl.classList.add('colab-df-quickchart-complete');\n",
              "    }\n",
              "    (() => {\n",
              "      let quickchartButtonEl =\n",
              "        document.querySelector('#df-11cddc6a-f423-4202-91b7-d23016dae2c0 button');\n",
              "      quickchartButtonEl.style.display =\n",
              "        google.colab.kernel.accessAllowed ? 'block' : 'none';\n",
              "    })();\n",
              "  </script>\n",
              "</div>\n",
              "\n",
              "    </div>\n",
              "  </div>\n"
            ],
            "application/vnd.google.colaboratory.intrinsic+json": {
              "type": "dataframe",
              "variable_name": "df_reviews",
              "summary": "{\n  \"name\": \"df_reviews\",\n  \"rows\": 47331,\n  \"fields\": [\n    {\n      \"column\": \"tconst\",\n      \"properties\": {\n        \"dtype\": \"category\",\n        \"num_unique_values\": 6648,\n        \"samples\": [\n          \"tt0191255\",\n          \"tt0460668\",\n          \"tt0756648\"\n        ],\n        \"semantic_type\": \"\",\n        \"description\": \"\"\n      }\n    },\n    {\n      \"column\": \"title_type\",\n      \"properties\": {\n        \"dtype\": \"category\",\n        \"num_unique_values\": 10,\n        \"samples\": [\n          \"videoGame\",\n          \"short\",\n          \"tvSpecial\"\n        ],\n        \"semantic_type\": \"\",\n        \"description\": \"\"\n      }\n    },\n    {\n      \"column\": \"primary_title\",\n      \"properties\": {\n        \"dtype\": \"category\",\n        \"num_unique_values\": 6555,\n        \"samples\": [\n          \"Kerching!\",\n          \"Teenage Exorcist\",\n          \"The Bare Wench Project\"\n        ],\n        \"semantic_type\": \"\",\n        \"description\": \"\"\n      }\n    },\n    {\n      \"column\": \"original_title\",\n      \"properties\": {\n        \"dtype\": \"category\",\n        \"num_unique_values\": 6562,\n        \"samples\": [\n          \"Do or Die\",\n          \"Eclectic Shorts by Eric Leiser\",\n          \"Sharing the Secret\"\n        ],\n        \"semantic_type\": \"\",\n        \"description\": \"\"\n      }\n    },\n    {\n      \"column\": \"start_year\",\n      \"properties\": {\n        \"dtype\": \"number\",\n        \"std\": 19,\n        \"min\": 1894,\n        \"max\": 2010,\n        \"num_unique_values\": 107,\n        \"samples\": [\n          1960,\n          2000,\n          1975\n        ],\n        \"semantic_type\": \"\",\n        \"description\": \"\"\n      }\n    },\n    {\n      \"column\": \"end_year\",\n      \"properties\": {\n        \"dtype\": \"category\",\n        \"num_unique_values\": 60,\n        \"samples\": [\n          \"\\\\N\",\n          \"1981\",\n          \"2020\"\n        ],\n        \"semantic_type\": \"\",\n        \"description\": \"\"\n      }\n    },\n    {\n      \"column\": \"runtime_minutes\",\n      \"properties\": {\n        \"dtype\": \"category\",\n        \"num_unique_values\": 249,\n        \"samples\": [\n          \"57\",\n          \"96\",\n          \"76\"\n        ],\n        \"semantic_type\": \"\",\n        \"description\": \"\"\n      }\n    },\n    {\n      \"column\": \"is_adult\",\n      \"properties\": {\n        \"dtype\": \"number\",\n        \"std\": 0,\n        \"min\": 0,\n        \"max\": 1,\n        \"num_unique_values\": 2,\n        \"samples\": [\n          1,\n          0\n        ],\n        \"semantic_type\": \"\",\n        \"description\": \"\"\n      }\n    },\n    {\n      \"column\": \"genres\",\n      \"properties\": {\n        \"dtype\": \"category\",\n        \"num_unique_values\": 585,\n        \"samples\": [\n          \"Adventure,Biography,Drama\",\n          \"Music,Talk-Show\"\n        ],\n        \"semantic_type\": \"\",\n        \"description\": \"\"\n      }\n    },\n    {\n      \"column\": \"average_rating\",\n      \"properties\": {\n        \"dtype\": \"number\",\n        \"std\": 1.4942889763477758,\n        \"min\": 1.4,\n        \"max\": 9.7,\n        \"num_unique_values\": 83,\n        \"samples\": [\n          2.8,\n          6.3\n        ],\n        \"semantic_type\": \"\",\n        \"description\": \"\"\n      }\n    },\n    {\n      \"column\": \"votes\",\n      \"properties\": {\n        \"dtype\": \"number\",\n        \"std\": 83670.0391634244,\n        \"min\": 9.0,\n        \"max\": 1739448.0,\n        \"num_unique_values\": 3748,\n        \"samples\": [\n          1131.0,\n          39494.0\n        ],\n        \"semantic_type\": \"\",\n        \"description\": \"\"\n      }\n    },\n    {\n      \"column\": \"review\",\n      \"properties\": {\n        \"dtype\": \"string\",\n        \"num_unique_values\": 47240,\n        \"samples\": [\n          \"Like all cult TV shows, there is a group of people who love The Twilight Zone so much that they rate practically every episode like they are the greatest shows EVER. While several of them are indeed wonderful classics, the truth is for every great episode, there were several that were mediocre and at least one that stank. However, like die-hard Trekkies, these Zone lovers insist that all of them are gold. In fact, this is what initially got me to review some individual episodes of a couple cult series instead of the movies I usually watch. While this isn't the worst episode ever made nor is it among the very worst, it is poor by any reasonable standard. A widow watches a long procession of Civil War soldiers going past her home. In the end, a very unexpected twist is revealed and there isn't a whole lot of excitement or suspense here.\",\n          \"Those of you who, like me, were disappointed with the original 1995 horror yarn, \\\"The Fear\\\" will find more to be disappointed with in this silly little sequel. It sort of follows a similar plot, but it is impossible to connect to the original, with the exception of the presence of Morty, the mannequin monster made of wood. Here is a brief overview. Twenty years after Mike Hawthorne (Gordon Currie, in a decent performance) witnesses his father brutally murder his mother and then take his own life, Mike is still suffering from the fear of that day. In hopes of ridding his fear, Mike takes his girlfriend and a bunch of friends up to his grandparents' home. His plan is for everyone to dress up in costumes that represent their fears, and then present the fears to the mannequin Morty. According to an Indian friend, this process is supposed to magically take away one's fear. What Mike doesn't know is that Morty is possessed with his father's spirit, and begins killing off the friends...or is it really Mike himself doing the killings? Who cares? A have a few troubles with this film. The first lies with Morty. I thought the original made Morty look rather convincing. This time, it is painfully obvious Morty is a man (actor Jon Fedele) in a fake looking suit. This can especially be seen in early scenes, where Morty is still supposed to be inanimate, but if you watch closely you can see him blinking. Another trouble is that most of the characters don't try hard enough. Some of them do, namely Betsy Palmer, of Friday the 13th fame, who was excellent in this film. But most of them don't make the effort or weren't given the chance. Finally, there are the killings. The opening scenes involving ax murders were very convincing. Actually, when I saw them I thought I was in for a good movie. When the second half of the movie arrives, and the killings really start, everything falls to pieces. Deaths are either uncreative, unseen, or foreseen (glimpses of the next scene as Currie has a blackout). One character dies in the end and no one, including the viewer, even notices. While more characterization was needed in the beginning half, it wasn't too bad. The second half was. I think new director Chris Angel got to this point and really didn't know how to shoot the violent scenes, so they turned out real sloppy and pedestrian. A silly ending doesn't help either. Thus, unless you really loved the original and enjoy plucking splinters out from under your skin, you should probably skip \\\"The Fear 2: Halloween Night.\\\" Zanatos' score: 4 out of 10.\"\n        ],\n        \"semantic_type\": \"\",\n        \"description\": \"\"\n      }\n    },\n    {\n      \"column\": \"rating\",\n      \"properties\": {\n        \"dtype\": \"number\",\n        \"std\": 3,\n        \"min\": 1,\n        \"max\": 10,\n        \"num_unique_values\": 8,\n        \"samples\": [\n          3,\n          4\n        ],\n        \"semantic_type\": \"\",\n        \"description\": \"\"\n      }\n    },\n    {\n      \"column\": \"sp\",\n      \"properties\": {\n        \"dtype\": \"category\",\n        \"num_unique_values\": 2,\n        \"samples\": [\n          \"pos\",\n          \"neg\"\n        ],\n        \"semantic_type\": \"\",\n        \"description\": \"\"\n      }\n    },\n    {\n      \"column\": \"pos\",\n      \"properties\": {\n        \"dtype\": \"number\",\n        \"std\": 0,\n        \"min\": 0,\n        \"max\": 1,\n        \"num_unique_values\": 2,\n        \"samples\": [\n          1,\n          0\n        ],\n        \"semantic_type\": \"\",\n        \"description\": \"\"\n      }\n    },\n    {\n      \"column\": \"ds_part\",\n      \"properties\": {\n        \"dtype\": \"category\",\n        \"num_unique_values\": 2,\n        \"samples\": [\n          \"test\",\n          \"train\"\n        ],\n        \"semantic_type\": \"\",\n        \"description\": \"\"\n      }\n    },\n    {\n      \"column\": \"idx\",\n      \"properties\": {\n        \"dtype\": \"number\",\n        \"std\": 3605,\n        \"min\": 0,\n        \"max\": 12499,\n        \"num_unique_values\": 12500,\n        \"samples\": [\n          8198,\n          9316\n        ],\n        \"semantic_type\": \"\",\n        \"description\": \"\"\n      }\n    }\n  ]\n}"
            }
          },
          "metadata": {},
          "execution_count": 86
        }
      ],
      "source": [
        "#Preview the data\n",
        "df_reviews.head()"
      ]
    },
    {
      "cell_type": "markdown",
      "metadata": {
        "gradient": {
          "editing": false
        },
        "id": "lU8c3yawVgD7"
      },
      "source": [
        "For our sentiment analysis, only the textual content of the 'review' and the binary sentiment 'pos' are important. Thus, we will streamline our data preprocessing to focus exclusively on these two columns."
      ]
    },
    {
      "cell_type": "markdown",
      "metadata": {
        "gradient": {
          "editing": false
        },
        "id": "HAtn_kKHVgD8"
      },
      "source": [
        "### Preprocess Data"
      ]
    },
    {
      "cell_type": "markdown",
      "metadata": {
        "gradient": {
          "editing": false
        },
        "id": "oinj4JNKVgD8"
      },
      "source": [
        "#### Check for Missing Values"
      ]
    },
    {
      "cell_type": "code",
      "execution_count": 87,
      "metadata": {
        "gradient": {},
        "colab": {
          "base_uri": "https://localhost:8080/",
          "height": 129
        },
        "id": "bg1gH8UIVgD8",
        "outputId": "f4b32176-07ec-44cd-cd47-0f0a118c8a6d"
      },
      "outputs": [
        {
          "output_type": "stream",
          "name": "stdout",
          "text": [
            "Overview of missing data in 'review' and 'pos' columns:\n"
          ]
        },
        {
          "output_type": "execute_result",
          "data": {
            "text/plain": [
              "        Missing Values\n",
              "review               0\n",
              "pos                  0"
            ],
            "text/html": [
              "\n",
              "  <div id=\"df-6cbab55f-efbe-4b70-a622-3fafe4bdaf46\" class=\"colab-df-container\">\n",
              "    <div>\n",
              "<style scoped>\n",
              "    .dataframe tbody tr th:only-of-type {\n",
              "        vertical-align: middle;\n",
              "    }\n",
              "\n",
              "    .dataframe tbody tr th {\n",
              "        vertical-align: top;\n",
              "    }\n",
              "\n",
              "    .dataframe thead th {\n",
              "        text-align: right;\n",
              "    }\n",
              "</style>\n",
              "<table border=\"1\" class=\"dataframe\">\n",
              "  <thead>\n",
              "    <tr style=\"text-align: right;\">\n",
              "      <th></th>\n",
              "      <th>Missing Values</th>\n",
              "    </tr>\n",
              "  </thead>\n",
              "  <tbody>\n",
              "    <tr>\n",
              "      <th>review</th>\n",
              "      <td>0</td>\n",
              "    </tr>\n",
              "    <tr>\n",
              "      <th>pos</th>\n",
              "      <td>0</td>\n",
              "    </tr>\n",
              "  </tbody>\n",
              "</table>\n",
              "</div>\n",
              "    <div class=\"colab-df-buttons\">\n",
              "\n",
              "  <div class=\"colab-df-container\">\n",
              "    <button class=\"colab-df-convert\" onclick=\"convertToInteractive('df-6cbab55f-efbe-4b70-a622-3fafe4bdaf46')\"\n",
              "            title=\"Convert this dataframe to an interactive table.\"\n",
              "            style=\"display:none;\">\n",
              "\n",
              "  <svg xmlns=\"http://www.w3.org/2000/svg\" height=\"24px\" viewBox=\"0 -960 960 960\">\n",
              "    <path d=\"M120-120v-720h720v720H120Zm60-500h600v-160H180v160Zm220 220h160v-160H400v160Zm0 220h160v-160H400v160ZM180-400h160v-160H180v160Zm440 0h160v-160H620v160ZM180-180h160v-160H180v160Zm440 0h160v-160H620v160Z\"/>\n",
              "  </svg>\n",
              "    </button>\n",
              "\n",
              "  <style>\n",
              "    .colab-df-container {\n",
              "      display:flex;\n",
              "      gap: 12px;\n",
              "    }\n",
              "\n",
              "    .colab-df-convert {\n",
              "      background-color: #E8F0FE;\n",
              "      border: none;\n",
              "      border-radius: 50%;\n",
              "      cursor: pointer;\n",
              "      display: none;\n",
              "      fill: #1967D2;\n",
              "      height: 32px;\n",
              "      padding: 0 0 0 0;\n",
              "      width: 32px;\n",
              "    }\n",
              "\n",
              "    .colab-df-convert:hover {\n",
              "      background-color: #E2EBFA;\n",
              "      box-shadow: 0px 1px 2px rgba(60, 64, 67, 0.3), 0px 1px 3px 1px rgba(60, 64, 67, 0.15);\n",
              "      fill: #174EA6;\n",
              "    }\n",
              "\n",
              "    .colab-df-buttons div {\n",
              "      margin-bottom: 4px;\n",
              "    }\n",
              "\n",
              "    [theme=dark] .colab-df-convert {\n",
              "      background-color: #3B4455;\n",
              "      fill: #D2E3FC;\n",
              "    }\n",
              "\n",
              "    [theme=dark] .colab-df-convert:hover {\n",
              "      background-color: #434B5C;\n",
              "      box-shadow: 0px 1px 3px 1px rgba(0, 0, 0, 0.15);\n",
              "      filter: drop-shadow(0px 1px 2px rgba(0, 0, 0, 0.3));\n",
              "      fill: #FFFFFF;\n",
              "    }\n",
              "  </style>\n",
              "\n",
              "    <script>\n",
              "      const buttonEl =\n",
              "        document.querySelector('#df-6cbab55f-efbe-4b70-a622-3fafe4bdaf46 button.colab-df-convert');\n",
              "      buttonEl.style.display =\n",
              "        google.colab.kernel.accessAllowed ? 'block' : 'none';\n",
              "\n",
              "      async function convertToInteractive(key) {\n",
              "        const element = document.querySelector('#df-6cbab55f-efbe-4b70-a622-3fafe4bdaf46');\n",
              "        const dataTable =\n",
              "          await google.colab.kernel.invokeFunction('convertToInteractive',\n",
              "                                                    [key], {});\n",
              "        if (!dataTable) return;\n",
              "\n",
              "        const docLinkHtml = 'Like what you see? Visit the ' +\n",
              "          '<a target=\"_blank\" href=https://colab.research.google.com/notebooks/data_table.ipynb>data table notebook</a>'\n",
              "          + ' to learn more about interactive tables.';\n",
              "        element.innerHTML = '';\n",
              "        dataTable['output_type'] = 'display_data';\n",
              "        await google.colab.output.renderOutput(dataTable, element);\n",
              "        const docLink = document.createElement('div');\n",
              "        docLink.innerHTML = docLinkHtml;\n",
              "        element.appendChild(docLink);\n",
              "      }\n",
              "    </script>\n",
              "  </div>\n",
              "\n",
              "\n",
              "<div id=\"df-162e2f91-1b22-42e5-b3a9-c88e95be42b7\">\n",
              "  <button class=\"colab-df-quickchart\" onclick=\"quickchart('df-162e2f91-1b22-42e5-b3a9-c88e95be42b7')\"\n",
              "            title=\"Suggest charts\"\n",
              "            style=\"display:none;\">\n",
              "\n",
              "<svg xmlns=\"http://www.w3.org/2000/svg\" height=\"24px\"viewBox=\"0 0 24 24\"\n",
              "     width=\"24px\">\n",
              "    <g>\n",
              "        <path d=\"M19 3H5c-1.1 0-2 .9-2 2v14c0 1.1.9 2 2 2h14c1.1 0 2-.9 2-2V5c0-1.1-.9-2-2-2zM9 17H7v-7h2v7zm4 0h-2V7h2v10zm4 0h-2v-4h2v4z\"/>\n",
              "    </g>\n",
              "</svg>\n",
              "  </button>\n",
              "\n",
              "<style>\n",
              "  .colab-df-quickchart {\n",
              "      --bg-color: #E8F0FE;\n",
              "      --fill-color: #1967D2;\n",
              "      --hover-bg-color: #E2EBFA;\n",
              "      --hover-fill-color: #174EA6;\n",
              "      --disabled-fill-color: #AAA;\n",
              "      --disabled-bg-color: #DDD;\n",
              "  }\n",
              "\n",
              "  [theme=dark] .colab-df-quickchart {\n",
              "      --bg-color: #3B4455;\n",
              "      --fill-color: #D2E3FC;\n",
              "      --hover-bg-color: #434B5C;\n",
              "      --hover-fill-color: #FFFFFF;\n",
              "      --disabled-bg-color: #3B4455;\n",
              "      --disabled-fill-color: #666;\n",
              "  }\n",
              "\n",
              "  .colab-df-quickchart {\n",
              "    background-color: var(--bg-color);\n",
              "    border: none;\n",
              "    border-radius: 50%;\n",
              "    cursor: pointer;\n",
              "    display: none;\n",
              "    fill: var(--fill-color);\n",
              "    height: 32px;\n",
              "    padding: 0;\n",
              "    width: 32px;\n",
              "  }\n",
              "\n",
              "  .colab-df-quickchart:hover {\n",
              "    background-color: var(--hover-bg-color);\n",
              "    box-shadow: 0 1px 2px rgba(60, 64, 67, 0.3), 0 1px 3px 1px rgba(60, 64, 67, 0.15);\n",
              "    fill: var(--button-hover-fill-color);\n",
              "  }\n",
              "\n",
              "  .colab-df-quickchart-complete:disabled,\n",
              "  .colab-df-quickchart-complete:disabled:hover {\n",
              "    background-color: var(--disabled-bg-color);\n",
              "    fill: var(--disabled-fill-color);\n",
              "    box-shadow: none;\n",
              "  }\n",
              "\n",
              "  .colab-df-spinner {\n",
              "    border: 2px solid var(--fill-color);\n",
              "    border-color: transparent;\n",
              "    border-bottom-color: var(--fill-color);\n",
              "    animation:\n",
              "      spin 1s steps(1) infinite;\n",
              "  }\n",
              "\n",
              "  @keyframes spin {\n",
              "    0% {\n",
              "      border-color: transparent;\n",
              "      border-bottom-color: var(--fill-color);\n",
              "      border-left-color: var(--fill-color);\n",
              "    }\n",
              "    20% {\n",
              "      border-color: transparent;\n",
              "      border-left-color: var(--fill-color);\n",
              "      border-top-color: var(--fill-color);\n",
              "    }\n",
              "    30% {\n",
              "      border-color: transparent;\n",
              "      border-left-color: var(--fill-color);\n",
              "      border-top-color: var(--fill-color);\n",
              "      border-right-color: var(--fill-color);\n",
              "    }\n",
              "    40% {\n",
              "      border-color: transparent;\n",
              "      border-right-color: var(--fill-color);\n",
              "      border-top-color: var(--fill-color);\n",
              "    }\n",
              "    60% {\n",
              "      border-color: transparent;\n",
              "      border-right-color: var(--fill-color);\n",
              "    }\n",
              "    80% {\n",
              "      border-color: transparent;\n",
              "      border-right-color: var(--fill-color);\n",
              "      border-bottom-color: var(--fill-color);\n",
              "    }\n",
              "    90% {\n",
              "      border-color: transparent;\n",
              "      border-bottom-color: var(--fill-color);\n",
              "    }\n",
              "  }\n",
              "</style>\n",
              "\n",
              "  <script>\n",
              "    async function quickchart(key) {\n",
              "      const quickchartButtonEl =\n",
              "        document.querySelector('#' + key + ' button');\n",
              "      quickchartButtonEl.disabled = true;  // To prevent multiple clicks.\n",
              "      quickchartButtonEl.classList.add('colab-df-spinner');\n",
              "      try {\n",
              "        const charts = await google.colab.kernel.invokeFunction(\n",
              "            'suggestCharts', [key], {});\n",
              "      } catch (error) {\n",
              "        console.error('Error during call to suggestCharts:', error);\n",
              "      }\n",
              "      quickchartButtonEl.classList.remove('colab-df-spinner');\n",
              "      quickchartButtonEl.classList.add('colab-df-quickchart-complete');\n",
              "    }\n",
              "    (() => {\n",
              "      let quickchartButtonEl =\n",
              "        document.querySelector('#df-162e2f91-1b22-42e5-b3a9-c88e95be42b7 button');\n",
              "      quickchartButtonEl.style.display =\n",
              "        google.colab.kernel.accessAllowed ? 'block' : 'none';\n",
              "    })();\n",
              "  </script>\n",
              "</div>\n",
              "\n",
              "    </div>\n",
              "  </div>\n"
            ],
            "application/vnd.google.colaboratory.intrinsic+json": {
              "type": "dataframe",
              "summary": "{\n  \"name\": \"df_reviews[['review', 'pos']]\",\n  \"rows\": 2,\n  \"fields\": [\n    {\n      \"column\": \"Missing Values\",\n      \"properties\": {\n        \"dtype\": \"number\",\n        \"std\": 0,\n        \"min\": 0,\n        \"max\": 0,\n        \"num_unique_values\": 1,\n        \"samples\": [\n          0\n        ],\n        \"semantic_type\": \"\",\n        \"description\": \"\"\n      }\n    }\n  ]\n}"
            }
          },
          "metadata": {},
          "execution_count": 87
        }
      ],
      "source": [
        "# Identify and display missing entries in 'review' and 'pos' columns for sentiment analysis.\n",
        "print(\"Overview of missing data in 'review' and 'pos' columns:\")\n",
        "df_reviews[['review', 'pos']].isnull().sum().to_frame().rename(columns={0: 'Missing Values'})"
      ]
    },
    {
      "cell_type": "markdown",
      "metadata": {
        "id": "gLeQ9zF0VgD8"
      },
      "source": [
        "There are no any missing values in 'review' and 'pos' columns"
      ]
    },
    {
      "cell_type": "markdown",
      "metadata": {
        "id": "6jTZbm_fVgD8"
      },
      "source": [
        "#### Check for Duplicates"
      ]
    },
    {
      "cell_type": "code",
      "execution_count": 88,
      "metadata": {
        "gradient": {},
        "colab": {
          "base_uri": "https://localhost:8080/"
        },
        "id": "g6iabuWbVgD8",
        "outputId": "5d272e82-135d-417e-bf58-6b8c3bb98d03"
      },
      "outputs": [
        {
          "output_type": "stream",
          "name": "stdout",
          "text": [
            "Total number of duplicate rows: 0\n"
          ]
        }
      ],
      "source": [
        "#Print total number of duplicated rows.\n",
        "print(f'Total number of duplicate rows: {df_reviews.duplicated().sum()}')"
      ]
    },
    {
      "cell_type": "markdown",
      "metadata": {
        "id": "2cGyrGfGVgD8"
      },
      "source": [
        "#### Check Datatypes"
      ]
    },
    {
      "cell_type": "code",
      "execution_count": 89,
      "metadata": {
        "gradient": {},
        "colab": {
          "base_uri": "https://localhost:8080/"
        },
        "id": "W-kLUZxzVgD8",
        "outputId": "ad6792c9-0fb5-4543-8a84-16cb9c721f1f"
      },
      "outputs": [
        {
          "output_type": "stream",
          "name": "stdout",
          "text": [
            "Data types in the dataset:\n"
          ]
        },
        {
          "output_type": "execute_result",
          "data": {
            "text/plain": [
              "tconst              object\n",
              "title_type          object\n",
              "primary_title       object\n",
              "original_title      object\n",
              "start_year           int64\n",
              "end_year            object\n",
              "runtime_minutes     object\n",
              "is_adult             int64\n",
              "genres              object\n",
              "average_rating     float64\n",
              "votes              float64\n",
              "review              object\n",
              "rating               int64\n",
              "sp                  object\n",
              "pos                  int64\n",
              "ds_part             object\n",
              "idx                  int64\n",
              "dtype: object"
            ]
          },
          "metadata": {},
          "execution_count": 89
        }
      ],
      "source": [
        "# Review the assigned data types for each column, focusing on analysis-relevant fields.\n",
        "print(\"Data types in the dataset:\")\n",
        "df_reviews.dtypes"
      ]
    },
    {
      "cell_type": "markdown",
      "metadata": {
        "id": "GRX04037VgD8"
      },
      "source": [
        "The 'review' column is formatted as an object and the 'pos' column as an int64. This formatting is suitable for the training and evaluation of our machine learning model."
      ]
    },
    {
      "cell_type": "markdown",
      "metadata": {
        "id": "8_nIdAA1VgD8"
      },
      "source": [
        "#### Removing Unnecessary Characters from 'review' column"
      ]
    },
    {
      "cell_type": "code",
      "execution_count": 90,
      "metadata": {
        "gradient": {},
        "id": "svx66IzzVgD9"
      },
      "outputs": [],
      "source": [
        "# Define function to retain only alphabets and apostrophes in 'review' column.\n",
        "def filter_characters(df):\n",
        "    \"\"\"\n",
        "    This function keeps only letters and apostrophes in the text.\n",
        "    \"\"\"\n",
        "    filtered = re.sub(r\"[^a-zA-Z']\", \" \", df).split()\n",
        "    filtered = \" \".join(filtered).lower()\n",
        "    return filtered\n",
        "\n",
        "# Execute the function on each review in the DataFrame\n",
        "df_reviews['normalized_review'] = df_reviews['review'].apply(filter_characters)"
      ]
    },
    {
      "cell_type": "markdown",
      "metadata": {
        "id": "DqJMKq8SVgD9"
      },
      "source": [
        "To optimize the performance of the models we're training and to ensure predictions are based solely on words, phrases, and terms, we have eliminated all characters from each review except letters and apostrophes. Additionally, we converted all text to lowercase."
      ]
    },
    {
      "cell_type": "markdown",
      "metadata": {
        "id": "Wnk7AzYzVgD9"
      },
      "source": [
        "## EDA"
      ]
    },
    {
      "cell_type": "markdown",
      "metadata": {
        "id": "_uVNsXK-VgD9"
      },
      "source": [
        "To gain a deeper understanding of our data, we will start by analyzing the total number of movies released and reviews created each year."
      ]
    },
    {
      "cell_type": "code",
      "execution_count": 91,
      "metadata": {
        "gradient": {},
        "colab": {
          "base_uri": "https://localhost:8080/",
          "height": 1000
        },
        "id": "PEafrb1ZVgD9",
        "outputId": "11b4bdeb-6a7e-4f40-84ba-5cfe35c05b98"
      },
      "outputs": [
        {
          "output_type": "display_data",
          "data": {
            "text/plain": [
              "<Figure size 1500x1000 with 3 Axes>"
            ],
            "image/png": "[encoded data removed]"
          },
          "metadata": {
            "image/png": {
              "width": 1489,
              "height": 989
            }
          }
        }
      ],
      "source": [
        "# Initialize a figure with subplots.\n",
        "fig, axs = plt.subplots(2, 1, figsize=(15, 10))\n",
        "\n",
        "# Configure the first subplot.\n",
        "ax = axs[0]\n",
        "\n",
        "# Plot the number of movies released annually.\n",
        "dft1 = df_reviews[['tconst', 'start_year']].drop_duplicates() \\\n",
        "    ['start_year'].value_counts().sort_index()\n",
        "dft1 = dft1.reindex(index=np.arange(dft1.index.min(), max(dft1.index.max(), 2021))).fillna(0)\n",
        "dft1.plot(kind='bar', ax=ax)\n",
        "ax.set_title('Number of Movies Released Each Year', fontsize=18)\n",
        "\n",
        "# Configure the second subplot.\n",
        "ax = axs[1]\n",
        "\n",
        "# Plot the number of reviews each year, categorized by sentiment.\n",
        "dft2 = df_reviews.groupby(['start_year', 'pos'])['pos'].count().unstack()\n",
        "dft2 = dft2.reindex(index=np.arange(dft2.index.min(), max(dft2.index.max(), 2021))).fillna(0)\n",
        "dft2.plot(kind='bar', stacked=True, ax=ax, label=['Negative', 'Positive'])\n",
        "axs[1].legend(labels=['Negative', 'Positive'], loc=0)\n",
        "\n",
        "# Add a line plot for the rolling average (5-year) of reviews per movie.\n",
        "dft2_total_reviews = df_reviews['start_year'].value_counts().sort_index()\n",
        "dft2_total_reviews = dft2_total_reviews.reindex(index=np.arange(dft2_total_reviews.index.min(), max(dft2_total_reviews.index.max(), 2021))).fillna(0)\n",
        "reviews_per_movie_avg = (dft2_total_reviews / dft1).fillna(0)\n",
        "axt = ax.twinx()\n",
        "reviews_per_movie_avg.reset_index(drop=True).rolling(5).mean().plot(color='orange', label='5-Year Average of Reviews per Movie', ax=axt)\n",
        "axt.legend(loc=0)\n",
        "ax.set_title('Average Yearly Movie Reviews', fontsize=18)\n",
        "ax.set_xlabel('Start Year', fontsize=12)\n",
        "fig.tight_layout()"
      ]
    },
    {
      "cell_type": "code",
      "execution_count": 92,
      "metadata": {
        "gradient": {},
        "colab": {
          "base_uri": "https://localhost:8080/",
          "height": 604
        },
        "id": "5RVd3Hv9VgD9",
        "outputId": "1155eb8c-8dc7-4d4f-dabf-a1b2fb147a92"
      },
      "outputs": [
        {
          "output_type": "display_data",
          "data": {
            "text/plain": [
              "<Figure size 1500x600 with 2 Axes>"
            ],
            "image/png": "[encoded data removed]"
          },
          "metadata": {
            "image/png": {
              "width": 1488,
              "height": 587
            }
          }
        }
      ],
      "source": [
        "# Initialize a figure with two subplots.\n",
        "fig, axs = plt.subplots(2, 1, figsize=(15, 6))\n",
        "\n",
        "# Configure the first subplot for the bar chart.\n",
        "ax = axs[0]\n",
        "\n",
        "# Aggregate movies by their title identifier and count reviews, then plot the results.\n",
        "dft = df_reviews.groupby('tconst')['review'].count() \\\n",
        "    .value_counts() \\\n",
        "    .sort_index()\n",
        "dft.plot(kind='bar', ax=ax)\n",
        "ax.set_title('Number of Reviews per Movie - Bar Chart', fontsize=18)\n",
        "\n",
        "# Configure the second subplot for the KDE plot.\n",
        "ax = axs[1]\n",
        "\n",
        "# Calculate the distribution of review counts per movie and plot a KDE.\n",
        "review_counts = df_reviews.groupby('tconst')['review'].count()\n",
        "sns.kdeplot(review_counts, ax=ax)\n",
        "ax.set_title('Number of Reviews per Movie - KDE Plot', fontsize=18)\n",
        "\n",
        "# Adjust layout and spacing.\n",
        "fig.tight_layout()\n",
        "fig.subplots_adjust(hspace=0.3)  # Increase spacing between rows of subplots\n",
        "plt.show()\n"
      ]
    },
    {
      "cell_type": "code",
      "execution_count": 93,
      "metadata": {
        "gradient": {},
        "colab": {
          "base_uri": "https://localhost:8080/",
          "height": 752
        },
        "id": "WBbaJFCUVgD-",
        "outputId": "120059a3-10e5-494e-d5b2-6b58502baae7"
      },
      "outputs": [
        {
          "output_type": "display_data",
          "data": {
            "text/plain": [
              "<Figure size 1500x800 with 1 Axes>"
            ],
            "image/png": "[encoded data removed]"
          },
          "metadata": {
            "image/png": {
              "width": 1228,
              "height": 735
            }
          }
        }
      ],
      "source": [
        "# Generate a new column to count the total reviews for each movie.\n",
        "df_reviews['review_count'] = df_reviews.groupby('tconst')['review'].transform('count')\n",
        "\n",
        "# Create a boxplot to visualize the distribution and average of movie ratings based on the number of reviews.\n",
        "fig = plt.figure(figsize=(15, 8))\n",
        "sns.boxplot(x=\"review_count\", y=\"rating\", data=df_reviews[['review_count', 'rating']])\n",
        "fig.suptitle('Movie Ratings by Number of Reviews', fontsize=18, y=.95)\n",
        "plt.xlabel('Number of Reviews', fontsize=15)\n",
        "plt.ylabel('Rating', fontsize=15)\n",
        "plt.show()"
      ]
    },
    {
      "cell_type": "markdown",
      "metadata": {
        "id": "F9D6b5QEVgD-"
      },
      "source": [
        "### Distribution of positive and Negative Reviews"
      ]
    },
    {
      "cell_type": "code",
      "execution_count": 94,
      "metadata": {
        "gradient": {},
        "colab": {
          "base_uri": "https://localhost:8080/",
          "height": 260
        },
        "id": "-FSJm337VgD-",
        "outputId": "23c97ef2-fd5d-4d7e-94f9-df45bc454e52"
      },
      "outputs": [
        {
          "output_type": "stream",
          "name": "stdout",
          "text": [
            "Count of positive and negative reviews in the full dataset:\n"
          ]
        },
        {
          "output_type": "display_data",
          "data": {
            "text/plain": [
              "0    23715\n",
              "1    23616\n",
              "Name: count, dtype: int64"
            ]
          },
          "metadata": {}
        },
        {
          "output_type": "stream",
          "name": "stdout",
          "text": [
            "\n",
            "Count of positive and negative reviews in the training set:\n"
          ]
        },
        {
          "output_type": "display_data",
          "data": {
            "text/plain": [
              "0    11912\n",
              "1    11884\n",
              "Name: count, dtype: int64"
            ]
          },
          "metadata": {}
        },
        {
          "output_type": "stream",
          "name": "stdout",
          "text": [
            "\n",
            "Count of positive and negative reviews in the testing set:\n"
          ]
        },
        {
          "output_type": "display_data",
          "data": {
            "text/plain": [
              "0    11803\n",
              "1    11732\n",
              "Name: count, dtype: int64"
            ]
          },
          "metadata": {}
        }
      ],
      "source": [
        "# Display the count of positive and negative reviews in the dataset.\n",
        "print(\"Count of positive and negative reviews in the full dataset:\")\n",
        "display(df_reviews['pos'].value_counts().reset_index(drop=True))\n",
        "\n",
        "print('\\nCount of positive and negative reviews in the training set:')\n",
        "display(df_reviews[df_reviews['ds_part'] == \"train\"]['pos'].value_counts().reset_index(drop=True))\n",
        "\n",
        "print('\\nCount of positive and negative reviews in the testing set:')\n",
        "display(df_reviews[df_reviews['ds_part'] == \"test\"]['pos'].value_counts().reset_index(drop=True))"
      ]
    },
    {
      "cell_type": "code",
      "execution_count": 95,
      "metadata": {
        "gradient": {},
        "colab": {
          "base_uri": "https://localhost:8080/",
          "height": 405
        },
        "id": "n4iNdLYMVgEB",
        "outputId": "882fadbe-7fab-431e-c9fe-5123bc5c31e8"
      },
      "outputs": [
        {
          "output_type": "display_data",
          "data": {
            "text/plain": [
              "<Figure size 1500x400 with 2 Axes>"
            ],
            "image/png": "[encoded data removed]"
          },
          "metadata": {
            "image/png": {
              "width": 1489,
              "height": 388
            }
          }
        }
      ],
      "source": [
        "# Set up a figure with two subplots\n",
        "fig, axs = plt.subplots(1, 2, figsize=(15, 4))\n",
        "\n",
        "# Configure the first subplot.\n",
        "ax = axs[0]\n",
        "\n",
        "# Gather and plot the frequency of ratings in the training dataset.\n",
        "dft_train = df_reviews.query('ds_part == \"train\"')['rating'].value_counts().sort_index()\n",
        "dft_train = dft_train.reindex(index=np.arange(min(dft_train.index.min(), 1), max(dft_train.index.max(), 11))).fillna(0)\n",
        "dft_train.plot(kind='bar', ax=ax)\n",
        "ax.set_ylim([0, 5000])\n",
        "ax.set_title('Distribution of Ratings in Training Set', fontsize=18)\n",
        "\n",
        "# Configure the second subplot.\n",
        "ax = axs[1]\n",
        "\n",
        "# Gather and plot the frequency of ratings in the testing dataset.\n",
        "dft_test = df_reviews.query('ds_part == \"test\"')['rating'].value_counts().sort_index()\n",
        "dft_test = dft_test.reindex(index=np.arange(min(dft_test.index.min(), 1), max(dft_test.index.max(), 11))).fillna(0)\n",
        "dft_test.plot(kind='bar', ax=ax)\n",
        "ax.set_ylim([0, 5000])\n",
        "ax.set_title('Distribution of Ratings in Testing Set', fontsize=18)\n",
        "\n",
        "# Adjust the layout and spacing between plots.\n",
        "fig.tight_layout()\n",
        "fig.subplots_adjust(wspace=0.3)\n",
        "plt.show()\n"
      ]
    },
    {
      "cell_type": "markdown",
      "metadata": {
        "id": "n-bOFMYUVgEB"
      },
      "source": [
        "## Creating Model Evaluation Funtion"
      ]
    },
    {
      "cell_type": "code",
      "execution_count": 96,
      "metadata": {
        "gradient": {},
        "id": "wmX7QFJwVgEC"
      },
      "outputs": [],
      "source": [
        "# Define a function to assess performance metrics of models.\n",
        "def assess_model_metrics(model_name, model, features_train, labels_train, features_test, labels_test):\n",
        "\n",
        "    # Initialize dictionary to store evaluation results.\n",
        "    evaluation_results = {}\n",
        "\n",
        "    # Loop to process both training and testing data.\n",
        "    for data_type, features, labels in (('Training', features_train, labels_train), ('Testing', features_test, labels_test)):\n",
        "\n",
        "        # Initialize sub-dictionary for results per data set.\n",
        "        evaluation_results[data_type] = {}\n",
        "\n",
        "        # Generate predictions from the model.\n",
        "        predicted_labels = model.predict(features)\n",
        "        # Compute probabilities for the positive class.\n",
        "        predicted_probs = model.predict_proba(features)[:, 1]\n",
        "\n",
        "        # Calculate F1 scores across a spectrum of thresholds.\n",
        "        thresholds = np.arange(0, 1.01, 0.05)\n",
        "        f1_values = [metrics.f1_score(labels, predicted_probs >= t) for t in thresholds]\n",
        "\n",
        "        # Calculate and record the ROC AUC score.\n",
        "        fpr, tpr, _ = metrics.roc_curve(labels, predicted_probs)\n",
        "        roc_auc_value = metrics.roc_auc_score(labels, predicted_probs)\n",
        "        evaluation_results[data_type]['ROC AUC'] = roc_auc_value\n",
        "\n",
        "        # Record accuracy and F1 score.\n",
        "        evaluation_results[data_type]['Accuracy'] = metrics.accuracy_score(labels, predicted_labels)\n",
        "        evaluation_results[data_type]['F1'] = metrics.f1_score(labels, predicted_labels)\n",
        "\n",
        "    # Convert results into a DataFrame for better visualization.\n",
        "    results_df = pd.DataFrame(evaluation_results)\n",
        "    results_df = results_df.round(2)\n",
        "    results_df = results_df.reindex(index=('Accuracy', 'F1', 'ROC AUC'))\n",
        "\n",
        "    # Display the DataFrame.\n",
        "    display(HTML(f'<b>Results for {model_name}:</b>'))\n",
        "    display(results_df)\n",
        "\n",
        "    return"
      ]
    },
    {
      "cell_type": "markdown",
      "metadata": {
        "id": "l6wrmwaoVgEC"
      },
      "source": [
        "## Split Data into Train and Test"
      ]
    },
    {
      "cell_type": "code",
      "execution_count": 97,
      "metadata": {
        "gradient": {},
        "colab": {
          "base_uri": "https://localhost:8080/"
        },
        "id": "xEElIYoIVgEC",
        "outputId": "efa25c51-201b-467f-8a9e-74294aaaff98"
      },
      "outputs": [
        {
          "output_type": "stream",
          "name": "stdout",
          "text": [
            "Shape of the training data: (23796, 19)\n",
            "Shape of the testing data: (23535, 19)\n"
          ]
        }
      ],
      "source": [
        "# Divide data into training and testing sets based on the 'ds_part' attribute.\n",
        "training_data = df_reviews.query('ds_part == \"train\"').copy()\n",
        "testing_data = df_reviews.query('ds_part == \"test\"').copy()\n",
        "\n",
        "# Extract target values for both training and testing datasets.\n",
        "train_targets = training_data['pos']\n",
        "test_targets = testing_data['pos']\n",
        "\n",
        "# Extract features from the datasets.\n",
        "train_features = training_data.normalized_review\n",
        "test_features = testing_data.normalized_review\n",
        "\n",
        "# Output the dimensions of both the training and testing datasets.\n",
        "print(f'Shape of the training data: {training_data.shape}')\n",
        "print(f'Shape of the testing data: {testing_data.shape}')"
      ]
    },
    {
      "cell_type": "markdown",
      "metadata": {
        "id": "IAZPf0hdVgEC"
      },
      "source": [
        "## Training and Testing Models"
      ]
    },
    {
      "cell_type": "markdown",
      "metadata": {
        "id": "YQYY05BYVgED"
      },
      "source": [
        "### Model 1 - Linear Regression"
      ]
    },
    {
      "cell_type": "code",
      "execution_count": 98,
      "metadata": {
        "gradient": {},
        "id": "CBsi62ByVgED"
      },
      "outputs": [],
      "source": [
        "# Define a function to perform lemmatization\n",
        "def lemmatize_text(text):\n",
        "    # Instantiate a lemmatizer.\n",
        "    lemmatizer = WordNetLemmatizer()\n",
        "    # Tokenize the text into words.\n",
        "    tokens = nltk.word_tokenize(text)\n",
        "    # Apply lemmatization to each word and combine them back into a single string.\n",
        "    lemmatized_output = ' '.join([lemmatizer.lemmatize(word) for word in tokens])\n",
        "    return lemmatized_output"
      ]
    },
    {
      "cell_type": "code",
      "execution_count": 99,
      "metadata": {
        "gradient": {},
        "colab": {
          "base_uri": "https://localhost:8080/"
        },
        "id": "Gd0U9S5-VgED",
        "outputId": "436b9bad-84d1-4644-8fe4-941aaf6593f8"
      },
      "outputs": [
        {
          "output_type": "stream",
          "name": "stderr",
          "text": [
            "[nltk_data] Downloading package punkt to /root/nltk_data...\n",
            "[nltk_data]   Package punkt is already up-to-date!\n",
            "[nltk_data] Downloading package wordnet to /root/nltk_data...\n",
            "[nltk_data]   Package wordnet is already up-to-date!\n",
            "Progress:: 100%|██████████| 23796/23796 [00:50<00:00, 474.29it/s]\n",
            "Progress:: 100%|██████████| 23535/23535 [00:46<00:00, 509.78it/s]\n"
          ]
        }
      ],
      "source": [
        "# Apply lemmatization to the training and testing feature sets.\n",
        "\n",
        "# Ensure required nltk resources are available.\n",
        "nltk.download('punkt')\n",
        "nltk.download('wordnet')\n",
        "\n",
        "train_X_lemmatized_nltk = train_X.progress_apply(lemmatize_text)\n",
        "test_X_lemmatized_nltk = test_X.progress_apply(lemmatize_text)"
      ]
    },
    {
      "cell_type": "code",
      "execution_count": 100,
      "metadata": {
        "gradient": {},
        "colab": {
          "base_uri": "https://localhost:8080/",
          "height": 195
        },
        "id": "DZL3EYpvVgED",
        "outputId": "5c9d373a-a2a6-4242-ab3e-445b337f2939"
      },
      "outputs": [
        {
          "output_type": "stream",
          "name": "stderr",
          "text": [
            "[nltk_data] Downloading package stopwords to /root/nltk_data...\n",
            "[nltk_data]   Package stopwords is already up-to-date!\n"
          ]
        },
        {
          "output_type": "display_data",
          "data": {
            "text/plain": [
              "<IPython.core.display.HTML object>"
            ],
            "text/html": [
              "<b>Results for Logistic Regression:</b>"
            ]
          },
          "metadata": {}
        },
        {
          "output_type": "display_data",
          "data": {
            "text/plain": [
              "          Training  Testing\n",
              "Accuracy      0.94     0.88\n",
              "F1            0.94     0.88\n",
              "ROC AUC       0.98     0.95"
            ],
            "text/html": [
              "\n",
              "  <div id=\"df-dcdc42a4-b5d6-4516-b80d-e59e8e5a78fb\" class=\"colab-df-container\">\n",
              "    <div>\n",
              "<style scoped>\n",
              "    .dataframe tbody tr th:only-of-type {\n",
              "        vertical-align: middle;\n",
              "    }\n",
              "\n",
              "    .dataframe tbody tr th {\n",
              "        vertical-align: top;\n",
              "    }\n",
              "\n",
              "    .dataframe thead th {\n",
              "        text-align: right;\n",
              "    }\n",
              "</style>\n",
              "<table border=\"1\" class=\"dataframe\">\n",
              "  <thead>\n",
              "    <tr style=\"text-align: right;\">\n",
              "      <th></th>\n",
              "      <th>Training</th>\n",
              "      <th>Testing</th>\n",
              "    </tr>\n",
              "  </thead>\n",
              "  <tbody>\n",
              "    <tr>\n",
              "      <th>Accuracy</th>\n",
              "      <td>0.94</td>\n",
              "      <td>0.88</td>\n",
              "    </tr>\n",
              "    <tr>\n",
              "      <th>F1</th>\n",
              "      <td>0.94</td>\n",
              "      <td>0.88</td>\n",
              "    </tr>\n",
              "    <tr>\n",
              "      <th>ROC AUC</th>\n",
              "      <td>0.98</td>\n",
              "      <td>0.95</td>\n",
              "    </tr>\n",
              "  </tbody>\n",
              "</table>\n",
              "</div>\n",
              "    <div class=\"colab-df-buttons\">\n",
              "\n",
              "  <div class=\"colab-df-container\">\n",
              "    <button class=\"colab-df-convert\" onclick=\"convertToInteractive('df-dcdc42a4-b5d6-4516-b80d-e59e8e5a78fb')\"\n",
              "            title=\"Convert this dataframe to an interactive table.\"\n",
              "            style=\"display:none;\">\n",
              "\n",
              "  <svg xmlns=\"http://www.w3.org/2000/svg\" height=\"24px\" viewBox=\"0 -960 960 960\">\n",
              "    <path d=\"M120-120v-720h720v720H120Zm60-500h600v-160H180v160Zm220 220h160v-160H400v160Zm0 220h160v-160H400v160ZM180-400h160v-160H180v160Zm440 0h160v-160H620v160ZM180-180h160v-160H180v160Zm440 0h160v-160H620v160Z\"/>\n",
              "  </svg>\n",
              "    </button>\n",
              "\n",
              "  <style>\n",
              "    .colab-df-container {\n",
              "      display:flex;\n",
              "      gap: 12px;\n",
              "    }\n",
              "\n",
              "    .colab-df-convert {\n",
              "      background-color: #E8F0FE;\n",
              "      border: none;\n",
              "      border-radius: 50%;\n",
              "      cursor: pointer;\n",
              "      display: none;\n",
              "      fill: #1967D2;\n",
              "      height: 32px;\n",
              "      padding: 0 0 0 0;\n",
              "      width: 32px;\n",
              "    }\n",
              "\n",
              "    .colab-df-convert:hover {\n",
              "      background-color: #E2EBFA;\n",
              "      box-shadow: 0px 1px 2px rgba(60, 64, 67, 0.3), 0px 1px 3px 1px rgba(60, 64, 67, 0.15);\n",
              "      fill: #174EA6;\n",
              "    }\n",
              "\n",
              "    .colab-df-buttons div {\n",
              "      margin-bottom: 4px;\n",
              "    }\n",
              "\n",
              "    [theme=dark] .colab-df-convert {\n",
              "      background-color: #3B4455;\n",
              "      fill: #D2E3FC;\n",
              "    }\n",
              "\n",
              "    [theme=dark] .colab-df-convert:hover {\n",
              "      background-color: #434B5C;\n",
              "      box-shadow: 0px 1px 3px 1px rgba(0, 0, 0, 0.15);\n",
              "      filter: drop-shadow(0px 1px 2px rgba(0, 0, 0, 0.3));\n",
              "      fill: #FFFFFF;\n",
              "    }\n",
              "  </style>\n",
              "\n",
              "    <script>\n",
              "      const buttonEl =\n",
              "        document.querySelector('#df-dcdc42a4-b5d6-4516-b80d-e59e8e5a78fb button.colab-df-convert');\n",
              "      buttonEl.style.display =\n",
              "        google.colab.kernel.accessAllowed ? 'block' : 'none';\n",
              "\n",
              "      async function convertToInteractive(key) {\n",
              "        const element = document.querySelector('#df-dcdc42a4-b5d6-4516-b80d-e59e8e5a78fb');\n",
              "        const dataTable =\n",
              "          await google.colab.kernel.invokeFunction('convertToInteractive',\n",
              "                                                    [key], {});\n",
              "        if (!dataTable) return;\n",
              "\n",
              "        const docLinkHtml = 'Like what you see? Visit the ' +\n",
              "          '<a target=\"_blank\" href=https://colab.research.google.com/notebooks/data_table.ipynb>data table notebook</a>'\n",
              "          + ' to learn more about interactive tables.';\n",
              "        element.innerHTML = '';\n",
              "        dataTable['output_type'] = 'display_data';\n",
              "        await google.colab.output.renderOutput(dataTable, element);\n",
              "        const docLink = document.createElement('div');\n",
              "        docLink.innerHTML = docLinkHtml;\n",
              "        element.appendChild(docLink);\n",
              "      }\n",
              "    </script>\n",
              "  </div>\n",
              "\n",
              "\n",
              "<div id=\"df-57139b33-3443-4d54-837d-1b37545f0ca2\">\n",
              "  <button class=\"colab-df-quickchart\" onclick=\"quickchart('df-57139b33-3443-4d54-837d-1b37545f0ca2')\"\n",
              "            title=\"Suggest charts\"\n",
              "            style=\"display:none;\">\n",
              "\n",
              "<svg xmlns=\"http://www.w3.org/2000/svg\" height=\"24px\"viewBox=\"0 0 24 24\"\n",
              "     width=\"24px\">\n",
              "    <g>\n",
              "        <path d=\"M19 3H5c-1.1 0-2 .9-2 2v14c0 1.1.9 2 2 2h14c1.1 0 2-.9 2-2V5c0-1.1-.9-2-2-2zM9 17H7v-7h2v7zm4 0h-2V7h2v10zm4 0h-2v-4h2v4z\"/>\n",
              "    </g>\n",
              "</svg>\n",
              "  </button>\n",
              "\n",
              "<style>\n",
              "  .colab-df-quickchart {\n",
              "      --bg-color: #E8F0FE;\n",
              "      --fill-color: #1967D2;\n",
              "      --hover-bg-color: #E2EBFA;\n",
              "      --hover-fill-color: #174EA6;\n",
              "      --disabled-fill-color: #AAA;\n",
              "      --disabled-bg-color: #DDD;\n",
              "  }\n",
              "\n",
              "  [theme=dark] .colab-df-quickchart {\n",
              "      --bg-color: #3B4455;\n",
              "      --fill-color: #D2E3FC;\n",
              "      --hover-bg-color: #434B5C;\n",
              "      --hover-fill-color: #FFFFFF;\n",
              "      --disabled-bg-color: #3B4455;\n",
              "      --disabled-fill-color: #666;\n",
              "  }\n",
              "\n",
              "  .colab-df-quickchart {\n",
              "    background-color: var(--bg-color);\n",
              "    border: none;\n",
              "    border-radius: 50%;\n",
              "    cursor: pointer;\n",
              "    display: none;\n",
              "    fill: var(--fill-color);\n",
              "    height: 32px;\n",
              "    padding: 0;\n",
              "    width: 32px;\n",
              "  }\n",
              "\n",
              "  .colab-df-quickchart:hover {\n",
              "    background-color: var(--hover-bg-color);\n",
              "    box-shadow: 0 1px 2px rgba(60, 64, 67, 0.3), 0 1px 3px 1px rgba(60, 64, 67, 0.15);\n",
              "    fill: var(--button-hover-fill-color);\n",
              "  }\n",
              "\n",
              "  .colab-df-quickchart-complete:disabled,\n",
              "  .colab-df-quickchart-complete:disabled:hover {\n",
              "    background-color: var(--disabled-bg-color);\n",
              "    fill: var(--disabled-fill-color);\n",
              "    box-shadow: none;\n",
              "  }\n",
              "\n",
              "  .colab-df-spinner {\n",
              "    border: 2px solid var(--fill-color);\n",
              "    border-color: transparent;\n",
              "    border-bottom-color: var(--fill-color);\n",
              "    animation:\n",
              "      spin 1s steps(1) infinite;\n",
              "  }\n",
              "\n",
              "  @keyframes spin {\n",
              "    0% {\n",
              "      border-color: transparent;\n",
              "      border-bottom-color: var(--fill-color);\n",
              "      border-left-color: var(--fill-color);\n",
              "    }\n",
              "    20% {\n",
              "      border-color: transparent;\n",
              "      border-left-color: var(--fill-color);\n",
              "      border-top-color: var(--fill-color);\n",
              "    }\n",
              "    30% {\n",
              "      border-color: transparent;\n",
              "      border-left-color: var(--fill-color);\n",
              "      border-top-color: var(--fill-color);\n",
              "      border-right-color: var(--fill-color);\n",
              "    }\n",
              "    40% {\n",
              "      border-color: transparent;\n",
              "      border-right-color: var(--fill-color);\n",
              "      border-top-color: var(--fill-color);\n",
              "    }\n",
              "    60% {\n",
              "      border-color: transparent;\n",
              "      border-right-color: var(--fill-color);\n",
              "    }\n",
              "    80% {\n",
              "      border-color: transparent;\n",
              "      border-right-color: var(--fill-color);\n",
              "      border-bottom-color: var(--fill-color);\n",
              "    }\n",
              "    90% {\n",
              "      border-color: transparent;\n",
              "      border-bottom-color: var(--fill-color);\n",
              "    }\n",
              "  }\n",
              "</style>\n",
              "\n",
              "  <script>\n",
              "    async function quickchart(key) {\n",
              "      const quickchartButtonEl =\n",
              "        document.querySelector('#' + key + ' button');\n",
              "      quickchartButtonEl.disabled = true;  // To prevent multiple clicks.\n",
              "      quickchartButtonEl.classList.add('colab-df-spinner');\n",
              "      try {\n",
              "        const charts = await google.colab.kernel.invokeFunction(\n",
              "            'suggestCharts', [key], {});\n",
              "      } catch (error) {\n",
              "        console.error('Error during call to suggestCharts:', error);\n",
              "      }\n",
              "      quickchartButtonEl.classList.remove('colab-df-spinner');\n",
              "      quickchartButtonEl.classList.add('colab-df-quickchart-complete');\n",
              "    }\n",
              "    (() => {\n",
              "      let quickchartButtonEl =\n",
              "        document.querySelector('#df-57139b33-3443-4d54-837d-1b37545f0ca2 button');\n",
              "      quickchartButtonEl.style.display =\n",
              "        google.colab.kernel.accessAllowed ? 'block' : 'none';\n",
              "    })();\n",
              "  </script>\n",
              "</div>\n",
              "\n",
              "    </div>\n",
              "  </div>\n"
            ],
            "application/vnd.google.colaboratory.intrinsic+json": {
              "type": "dataframe",
              "summary": "{\n  \"name\": \"# del train_X_lemmatized_nltk, test_X_lemmatized_nltk\",\n  \"rows\": 3,\n  \"fields\": [\n    {\n      \"column\": \"Training\",\n      \"properties\": {\n        \"dtype\": \"number\",\n        \"std\": 0.023094010767585053,\n        \"min\": 0.94,\n        \"max\": 0.98,\n        \"num_unique_values\": 2,\n        \"samples\": [\n          0.98,\n          0.94\n        ],\n        \"semantic_type\": \"\",\n        \"description\": \"\"\n      }\n    },\n    {\n      \"column\": \"Testing\",\n      \"properties\": {\n        \"dtype\": \"number\",\n        \"std\": 0.040414518843273774,\n        \"min\": 0.88,\n        \"max\": 0.95,\n        \"num_unique_values\": 2,\n        \"samples\": [\n          0.95,\n          0.88\n        ],\n        \"semantic_type\": \"\",\n        \"description\": \"\"\n      }\n    }\n  ]\n}"
            }
          },
          "metadata": {}
        }
      ],
      "source": [
        "# Ensure required nltk resources are available.\n",
        "nltk.download('stopwords')\n",
        "\n",
        "# Establish a list of English stop words.\n",
        "english_stop_words = list(stopwords.words('english'))\n",
        "\n",
        "# Initialize a TF-IDF vectorizer with the stop words list.\n",
        "tfidf_vectorizer = TfidfVectorizer(stop_words=english_stop_words)\n",
        "\n",
        "# Fit the vectorizer to the lemmatized training data and transform both training and testing datasets.\n",
        "train_X_tfidf = tfidf_vectorizer.fit_transform(train_X_lemmatized_nltk)\n",
        "test_X_tfidf = tfidf_vectorizer.transform(test_X_lemmatized_nltk)\n",
        "\n",
        "# Instantiate and train a logistic regression model.\n",
        "logistic_model = LogisticRegression(random_state=12345, solver='saga')\n",
        "logistic_model.fit(train_X_tfidf, train_targets)\n",
        "\n",
        "# Assess the performance of the logistic regression model.\n",
        "assess_model_metrics('Logistic Regression', logistic_model, train_X_tfidf, train_targets, test_X_tfidf, test_targets)\n",
        "\n",
        "# # Clean up memory by removing large temporary variables.\n",
        "# del train_X_lemmatized_nltk, test_X_lemmatized_nltk"
      ]
    },
    {
      "cell_type": "markdown",
      "metadata": {
        "id": "tj8nb8QyVgEE"
      },
      "source": [
        "### Model 2 - LGBMClassifier"
      ]
    },
    {
      "cell_type": "code",
      "execution_count": 101,
      "metadata": {
        "gradient": {},
        "colab": {
          "base_uri": "https://localhost:8080/",
          "height": 282
        },
        "id": "ZpJIHwlVVgEE",
        "outputId": "34ab806e-ab04-4370-f8b3-c7bccea2db79"
      },
      "outputs": [
        {
          "output_type": "stream",
          "name": "stdout",
          "text": [
            "[LightGBM] [Info] Number of positive: 11884, number of negative: 11912\n",
            "[LightGBM] [Info] Auto-choosing col-wise multi-threading, the overhead of testing was 6.612326 seconds.\n",
            "You can set `force_col_wise=true` to remove the overhead.\n",
            "[LightGBM] [Info] Total Bins 491157\n",
            "[LightGBM] [Info] Number of data points in the train set: 23796, number of used features: 10417\n",
            "[LightGBM] [Info] [binary:BoostFromScore]: pavg=0.499412 -> initscore=-0.002353\n",
            "[LightGBM] [Info] Start training from score -0.002353\n"
          ]
        },
        {
          "output_type": "display_data",
          "data": {
            "text/plain": [
              "<IPython.core.display.HTML object>"
            ],
            "text/html": [
              "<b>Results for lgbm classifier:</b>"
            ]
          },
          "metadata": {}
        },
        {
          "output_type": "display_data",
          "data": {
            "text/plain": [
              "          Training  Testing\n",
              "Accuracy      0.92     0.86\n",
              "F1            0.92     0.86\n",
              "ROC AUC       0.97     0.94"
            ],
            "text/html": [
              "\n",
              "  <div id=\"df-47869a58-ea1d-4f77-9dd4-67d2da04ed1b\" class=\"colab-df-container\">\n",
              "    <div>\n",
              "<style scoped>\n",
              "    .dataframe tbody tr th:only-of-type {\n",
              "        vertical-align: middle;\n",
              "    }\n",
              "\n",
              "    .dataframe tbody tr th {\n",
              "        vertical-align: top;\n",
              "    }\n",
              "\n",
              "    .dataframe thead th {\n",
              "        text-align: right;\n",
              "    }\n",
              "</style>\n",
              "<table border=\"1\" class=\"dataframe\">\n",
              "  <thead>\n",
              "    <tr style=\"text-align: right;\">\n",
              "      <th></th>\n",
              "      <th>Training</th>\n",
              "      <th>Testing</th>\n",
              "    </tr>\n",
              "  </thead>\n",
              "  <tbody>\n",
              "    <tr>\n",
              "      <th>Accuracy</th>\n",
              "      <td>0.92</td>\n",
              "      <td>0.86</td>\n",
              "    </tr>\n",
              "    <tr>\n",
              "      <th>F1</th>\n",
              "      <td>0.92</td>\n",
              "      <td>0.86</td>\n",
              "    </tr>\n",
              "    <tr>\n",
              "      <th>ROC AUC</th>\n",
              "      <td>0.97</td>\n",
              "      <td>0.94</td>\n",
              "    </tr>\n",
              "  </tbody>\n",
              "</table>\n",
              "</div>\n",
              "    <div class=\"colab-df-buttons\">\n",
              "\n",
              "  <div class=\"colab-df-container\">\n",
              "    <button class=\"colab-df-convert\" onclick=\"convertToInteractive('df-47869a58-ea1d-4f77-9dd4-67d2da04ed1b')\"\n",
              "            title=\"Convert this dataframe to an interactive table.\"\n",
              "            style=\"display:none;\">\n",
              "\n",
              "  <svg xmlns=\"http://www.w3.org/2000/svg\" height=\"24px\" viewBox=\"0 -960 960 960\">\n",
              "    <path d=\"M120-120v-720h720v720H120Zm60-500h600v-160H180v160Zm220 220h160v-160H400v160Zm0 220h160v-160H400v160ZM180-400h160v-160H180v160Zm440 0h160v-160H620v160ZM180-180h160v-160H180v160Zm440 0h160v-160H620v160Z\"/>\n",
              "  </svg>\n",
              "    </button>\n",
              "\n",
              "  <style>\n",
              "    .colab-df-container {\n",
              "      display:flex;\n",
              "      gap: 12px;\n",
              "    }\n",
              "\n",
              "    .colab-df-convert {\n",
              "      background-color: #E8F0FE;\n",
              "      border: none;\n",
              "      border-radius: 50%;\n",
              "      cursor: pointer;\n",
              "      display: none;\n",
              "      fill: #1967D2;\n",
              "      height: 32px;\n",
              "      padding: 0 0 0 0;\n",
              "      width: 32px;\n",
              "    }\n",
              "\n",
              "    .colab-df-convert:hover {\n",
              "      background-color: #E2EBFA;\n",
              "      box-shadow: 0px 1px 2px rgba(60, 64, 67, 0.3), 0px 1px 3px 1px rgba(60, 64, 67, 0.15);\n",
              "      fill: #174EA6;\n",
              "    }\n",
              "\n",
              "    .colab-df-buttons div {\n",
              "      margin-bottom: 4px;\n",
              "    }\n",
              "\n",
              "    [theme=dark] .colab-df-convert {\n",
              "      background-color: #3B4455;\n",
              "      fill: #D2E3FC;\n",
              "    }\n",
              "\n",
              "    [theme=dark] .colab-df-convert:hover {\n",
              "      background-color: #434B5C;\n",
              "      box-shadow: 0px 1px 3px 1px rgba(0, 0, 0, 0.15);\n",
              "      filter: drop-shadow(0px 1px 2px rgba(0, 0, 0, 0.3));\n",
              "      fill: #FFFFFF;\n",
              "    }\n",
              "  </style>\n",
              "\n",
              "    <script>\n",
              "      const buttonEl =\n",
              "        document.querySelector('#df-47869a58-ea1d-4f77-9dd4-67d2da04ed1b button.colab-df-convert');\n",
              "      buttonEl.style.display =\n",
              "        google.colab.kernel.accessAllowed ? 'block' : 'none';\n",
              "\n",
              "      async function convertToInteractive(key) {\n",
              "        const element = document.querySelector('#df-47869a58-ea1d-4f77-9dd4-67d2da04ed1b');\n",
              "        const dataTable =\n",
              "          await google.colab.kernel.invokeFunction('convertToInteractive',\n",
              "                                                    [key], {});\n",
              "        if (!dataTable) return;\n",
              "\n",
              "        const docLinkHtml = 'Like what you see? Visit the ' +\n",
              "          '<a target=\"_blank\" href=https://colab.research.google.com/notebooks/data_table.ipynb>data table notebook</a>'\n",
              "          + ' to learn more about interactive tables.';\n",
              "        element.innerHTML = '';\n",
              "        dataTable['output_type'] = 'display_data';\n",
              "        await google.colab.output.renderOutput(dataTable, element);\n",
              "        const docLink = document.createElement('div');\n",
              "        docLink.innerHTML = docLinkHtml;\n",
              "        element.appendChild(docLink);\n",
              "      }\n",
              "    </script>\n",
              "  </div>\n",
              "\n",
              "\n",
              "<div id=\"df-a257d2d0-5583-4fac-8917-e76b050b33f0\">\n",
              "  <button class=\"colab-df-quickchart\" onclick=\"quickchart('df-a257d2d0-5583-4fac-8917-e76b050b33f0')\"\n",
              "            title=\"Suggest charts\"\n",
              "            style=\"display:none;\">\n",
              "\n",
              "<svg xmlns=\"http://www.w3.org/2000/svg\" height=\"24px\"viewBox=\"0 0 24 24\"\n",
              "     width=\"24px\">\n",
              "    <g>\n",
              "        <path d=\"M19 3H5c-1.1 0-2 .9-2 2v14c0 1.1.9 2 2 2h14c1.1 0 2-.9 2-2V5c0-1.1-.9-2-2-2zM9 17H7v-7h2v7zm4 0h-2V7h2v10zm4 0h-2v-4h2v4z\"/>\n",
              "    </g>\n",
              "</svg>\n",
              "  </button>\n",
              "\n",
              "<style>\n",
              "  .colab-df-quickchart {\n",
              "      --bg-color: #E8F0FE;\n",
              "      --fill-color: #1967D2;\n",
              "      --hover-bg-color: #E2EBFA;\n",
              "      --hover-fill-color: #174EA6;\n",
              "      --disabled-fill-color: #AAA;\n",
              "      --disabled-bg-color: #DDD;\n",
              "  }\n",
              "\n",
              "  [theme=dark] .colab-df-quickchart {\n",
              "      --bg-color: #3B4455;\n",
              "      --fill-color: #D2E3FC;\n",
              "      --hover-bg-color: #434B5C;\n",
              "      --hover-fill-color: #FFFFFF;\n",
              "      --disabled-bg-color: #3B4455;\n",
              "      --disabled-fill-color: #666;\n",
              "  }\n",
              "\n",
              "  .colab-df-quickchart {\n",
              "    background-color: var(--bg-color);\n",
              "    border: none;\n",
              "    border-radius: 50%;\n",
              "    cursor: pointer;\n",
              "    display: none;\n",
              "    fill: var(--fill-color);\n",
              "    height: 32px;\n",
              "    padding: 0;\n",
              "    width: 32px;\n",
              "  }\n",
              "\n",
              "  .colab-df-quickchart:hover {\n",
              "    background-color: var(--hover-bg-color);\n",
              "    box-shadow: 0 1px 2px rgba(60, 64, 67, 0.3), 0 1px 3px 1px rgba(60, 64, 67, 0.15);\n",
              "    fill: var(--button-hover-fill-color);\n",
              "  }\n",
              "\n",
              "  .colab-df-quickchart-complete:disabled,\n",
              "  .colab-df-quickchart-complete:disabled:hover {\n",
              "    background-color: var(--disabled-bg-color);\n",
              "    fill: var(--disabled-fill-color);\n",
              "    box-shadow: none;\n",
              "  }\n",
              "\n",
              "  .colab-df-spinner {\n",
              "    border: 2px solid var(--fill-color);\n",
              "    border-color: transparent;\n",
              "    border-bottom-color: var(--fill-color);\n",
              "    animation:\n",
              "      spin 1s steps(1) infinite;\n",
              "  }\n",
              "\n",
              "  @keyframes spin {\n",
              "    0% {\n",
              "      border-color: transparent;\n",
              "      border-bottom-color: var(--fill-color);\n",
              "      border-left-color: var(--fill-color);\n",
              "    }\n",
              "    20% {\n",
              "      border-color: transparent;\n",
              "      border-left-color: var(--fill-color);\n",
              "      border-top-color: var(--fill-color);\n",
              "    }\n",
              "    30% {\n",
              "      border-color: transparent;\n",
              "      border-left-color: var(--fill-color);\n",
              "      border-top-color: var(--fill-color);\n",
              "      border-right-color: var(--fill-color);\n",
              "    }\n",
              "    40% {\n",
              "      border-color: transparent;\n",
              "      border-right-color: var(--fill-color);\n",
              "      border-top-color: var(--fill-color);\n",
              "    }\n",
              "    60% {\n",
              "      border-color: transparent;\n",
              "      border-right-color: var(--fill-color);\n",
              "    }\n",
              "    80% {\n",
              "      border-color: transparent;\n",
              "      border-right-color: var(--fill-color);\n",
              "      border-bottom-color: var(--fill-color);\n",
              "    }\n",
              "    90% {\n",
              "      border-color: transparent;\n",
              "      border-bottom-color: var(--fill-color);\n",
              "    }\n",
              "  }\n",
              "</style>\n",
              "\n",
              "  <script>\n",
              "    async function quickchart(key) {\n",
              "      const quickchartButtonEl =\n",
              "        document.querySelector('#' + key + ' button');\n",
              "      quickchartButtonEl.disabled = true;  // To prevent multiple clicks.\n",
              "      quickchartButtonEl.classList.add('colab-df-spinner');\n",
              "      try {\n",
              "        const charts = await google.colab.kernel.invokeFunction(\n",
              "            'suggestCharts', [key], {});\n",
              "      } catch (error) {\n",
              "        console.error('Error during call to suggestCharts:', error);\n",
              "      }\n",
              "      quickchartButtonEl.classList.remove('colab-df-spinner');\n",
              "      quickchartButtonEl.classList.add('colab-df-quickchart-complete');\n",
              "    }\n",
              "    (() => {\n",
              "      let quickchartButtonEl =\n",
              "        document.querySelector('#df-a257d2d0-5583-4fac-8917-e76b050b33f0 button');\n",
              "      quickchartButtonEl.style.display =\n",
              "        google.colab.kernel.accessAllowed ? 'block' : 'none';\n",
              "    })();\n",
              "  </script>\n",
              "</div>\n",
              "\n",
              "    </div>\n",
              "  </div>\n"
            ],
            "application/vnd.google.colaboratory.intrinsic+json": {
              "type": "dataframe",
              "summary": "{\n  \"name\": \"assess_model_metrics('lgbm classifier', lgbm_model, train_X_tfidf, train_targets, test_X_tfidf, test_targets)\",\n  \"rows\": 3,\n  \"fields\": [\n    {\n      \"column\": \"Training\",\n      \"properties\": {\n        \"dtype\": \"number\",\n        \"std\": 0.02886751345948125,\n        \"min\": 0.92,\n        \"max\": 0.97,\n        \"num_unique_values\": 2,\n        \"samples\": [\n          0.97,\n          0.92\n        ],\n        \"semantic_type\": \"\",\n        \"description\": \"\"\n      }\n    },\n    {\n      \"column\": \"Testing\",\n      \"properties\": {\n        \"dtype\": \"number\",\n        \"std\": 0.046188021535170036,\n        \"min\": 0.86,\n        \"max\": 0.94,\n        \"num_unique_values\": 2,\n        \"samples\": [\n          0.94,\n          0.86\n        ],\n        \"semantic_type\": \"\",\n        \"description\": \"\"\n      }\n    }\n  ]\n}"
            }
          },
          "metadata": {}
        }
      ],
      "source": [
        "# Instantiate and train a lgbm classifier model.\n",
        "lgbm_model = LGBMClassifier(random_state=12345)\n",
        "lgbm_model.fit(train_X_tfidf, train_targets)\n",
        "\n",
        "# Assess the performance of the lgbm classifier model.\n",
        "assess_model_metrics('lgbm classifier', lgbm_model, train_X_tfidf, train_targets, test_X_tfidf, test_targets)"
      ]
    },
    {
      "cell_type": "markdown",
      "metadata": {
        "id": "Y4kTsyJtVgEE"
      },
      "source": [
        "###  Model 3 - Random Forest Classifier"
      ]
    },
    {
      "cell_type": "code",
      "execution_count": 102,
      "metadata": {
        "gradient": {},
        "colab": {
          "base_uri": "https://localhost:8080/",
          "height": 160
        },
        "id": "SiYo-lIZVgEF",
        "outputId": "446e50e5-a3ad-433c-d48f-2325580bf1d1"
      },
      "outputs": [
        {
          "output_type": "display_data",
          "data": {
            "text/plain": [
              "<IPython.core.display.HTML object>"
            ],
            "text/html": [
              "<b>Results for Random Forest Classifier:</b>"
            ]
          },
          "metadata": {}
        },
        {
          "output_type": "display_data",
          "data": {
            "text/plain": [
              "          Training  Testing\n",
              "Accuracy       1.0     0.85\n",
              "F1             1.0     0.85\n",
              "ROC AUC        1.0     0.93"
            ],
            "text/html": [
              "\n",
              "  <div id=\"df-be4553a3-a6f3-4022-9fe0-67f2535041fb\" class=\"colab-df-container\">\n",
              "    <div>\n",
              "<style scoped>\n",
              "    .dataframe tbody tr th:only-of-type {\n",
              "        vertical-align: middle;\n",
              "    }\n",
              "\n",
              "    .dataframe tbody tr th {\n",
              "        vertical-align: top;\n",
              "    }\n",
              "\n",
              "    .dataframe thead th {\n",
              "        text-align: right;\n",
              "    }\n",
              "</style>\n",
              "<table border=\"1\" class=\"dataframe\">\n",
              "  <thead>\n",
              "    <tr style=\"text-align: right;\">\n",
              "      <th></th>\n",
              "      <th>Training</th>\n",
              "      <th>Testing</th>\n",
              "    </tr>\n",
              "  </thead>\n",
              "  <tbody>\n",
              "    <tr>\n",
              "      <th>Accuracy</th>\n",
              "      <td>1.0</td>\n",
              "      <td>0.85</td>\n",
              "    </tr>\n",
              "    <tr>\n",
              "      <th>F1</th>\n",
              "      <td>1.0</td>\n",
              "      <td>0.85</td>\n",
              "    </tr>\n",
              "    <tr>\n",
              "      <th>ROC AUC</th>\n",
              "      <td>1.0</td>\n",
              "      <td>0.93</td>\n",
              "    </tr>\n",
              "  </tbody>\n",
              "</table>\n",
              "</div>\n",
              "    <div class=\"colab-df-buttons\">\n",
              "\n",
              "  <div class=\"colab-df-container\">\n",
              "    <button class=\"colab-df-convert\" onclick=\"convertToInteractive('df-be4553a3-a6f3-4022-9fe0-67f2535041fb')\"\n",
              "            title=\"Convert this dataframe to an interactive table.\"\n",
              "            style=\"display:none;\">\n",
              "\n",
              "  <svg xmlns=\"http://www.w3.org/2000/svg\" height=\"24px\" viewBox=\"0 -960 960 960\">\n",
              "    <path d=\"M120-120v-720h720v720H120Zm60-500h600v-160H180v160Zm220 220h160v-160H400v160Zm0 220h160v-160H400v160ZM180-400h160v-160H180v160Zm440 0h160v-160H620v160ZM180-180h160v-160H180v160Zm440 0h160v-160H620v160Z\"/>\n",
              "  </svg>\n",
              "    </button>\n",
              "\n",
              "  <style>\n",
              "    .colab-df-container {\n",
              "      display:flex;\n",
              "      gap: 12px;\n",
              "    }\n",
              "\n",
              "    .colab-df-convert {\n",
              "      background-color: #E8F0FE;\n",
              "      border: none;\n",
              "      border-radius: 50%;\n",
              "      cursor: pointer;\n",
              "      display: none;\n",
              "      fill: #1967D2;\n",
              "      height: 32px;\n",
              "      padding: 0 0 0 0;\n",
              "      width: 32px;\n",
              "    }\n",
              "\n",
              "    .colab-df-convert:hover {\n",
              "      background-color: #E2EBFA;\n",
              "      box-shadow: 0px 1px 2px rgba(60, 64, 67, 0.3), 0px 1px 3px 1px rgba(60, 64, 67, 0.15);\n",
              "      fill: #174EA6;\n",
              "    }\n",
              "\n",
              "    .colab-df-buttons div {\n",
              "      margin-bottom: 4px;\n",
              "    }\n",
              "\n",
              "    [theme=dark] .colab-df-convert {\n",
              "      background-color: #3B4455;\n",
              "      fill: #D2E3FC;\n",
              "    }\n",
              "\n",
              "    [theme=dark] .colab-df-convert:hover {\n",
              "      background-color: #434B5C;\n",
              "      box-shadow: 0px 1px 3px 1px rgba(0, 0, 0, 0.15);\n",
              "      filter: drop-shadow(0px 1px 2px rgba(0, 0, 0, 0.3));\n",
              "      fill: #FFFFFF;\n",
              "    }\n",
              "  </style>\n",
              "\n",
              "    <script>\n",
              "      const buttonEl =\n",
              "        document.querySelector('#df-be4553a3-a6f3-4022-9fe0-67f2535041fb button.colab-df-convert');\n",
              "      buttonEl.style.display =\n",
              "        google.colab.kernel.accessAllowed ? 'block' : 'none';\n",
              "\n",
              "      async function convertToInteractive(key) {\n",
              "        const element = document.querySelector('#df-be4553a3-a6f3-4022-9fe0-67f2535041fb');\n",
              "        const dataTable =\n",
              "          await google.colab.kernel.invokeFunction('convertToInteractive',\n",
              "                                                    [key], {});\n",
              "        if (!dataTable) return;\n",
              "\n",
              "        const docLinkHtml = 'Like what you see? Visit the ' +\n",
              "          '<a target=\"_blank\" href=https://colab.research.google.com/notebooks/data_table.ipynb>data table notebook</a>'\n",
              "          + ' to learn more about interactive tables.';\n",
              "        element.innerHTML = '';\n",
              "        dataTable['output_type'] = 'display_data';\n",
              "        await google.colab.output.renderOutput(dataTable, element);\n",
              "        const docLink = document.createElement('div');\n",
              "        docLink.innerHTML = docLinkHtml;\n",
              "        element.appendChild(docLink);\n",
              "      }\n",
              "    </script>\n",
              "  </div>\n",
              "\n",
              "\n",
              "<div id=\"df-ea0eb86d-52d6-4b03-8b96-1c44e4f98a0a\">\n",
              "  <button class=\"colab-df-quickchart\" onclick=\"quickchart('df-ea0eb86d-52d6-4b03-8b96-1c44e4f98a0a')\"\n",
              "            title=\"Suggest charts\"\n",
              "            style=\"display:none;\">\n",
              "\n",
              "<svg xmlns=\"http://www.w3.org/2000/svg\" height=\"24px\"viewBox=\"0 0 24 24\"\n",
              "     width=\"24px\">\n",
              "    <g>\n",
              "        <path d=\"M19 3H5c-1.1 0-2 .9-2 2v14c0 1.1.9 2 2 2h14c1.1 0 2-.9 2-2V5c0-1.1-.9-2-2-2zM9 17H7v-7h2v7zm4 0h-2V7h2v10zm4 0h-2v-4h2v4z\"/>\n",
              "    </g>\n",
              "</svg>\n",
              "  </button>\n",
              "\n",
              "<style>\n",
              "  .colab-df-quickchart {\n",
              "      --bg-color: #E8F0FE;\n",
              "      --fill-color: #1967D2;\n",
              "      --hover-bg-color: #E2EBFA;\n",
              "      --hover-fill-color: #174EA6;\n",
              "      --disabled-fill-color: #AAA;\n",
              "      --disabled-bg-color: #DDD;\n",
              "  }\n",
              "\n",
              "  [theme=dark] .colab-df-quickchart {\n",
              "      --bg-color: #3B4455;\n",
              "      --fill-color: #D2E3FC;\n",
              "      --hover-bg-color: #434B5C;\n",
              "      --hover-fill-color: #FFFFFF;\n",
              "      --disabled-bg-color: #3B4455;\n",
              "      --disabled-fill-color: #666;\n",
              "  }\n",
              "\n",
              "  .colab-df-quickchart {\n",
              "    background-color: var(--bg-color);\n",
              "    border: none;\n",
              "    border-radius: 50%;\n",
              "    cursor: pointer;\n",
              "    display: none;\n",
              "    fill: var(--fill-color);\n",
              "    height: 32px;\n",
              "    padding: 0;\n",
              "    width: 32px;\n",
              "  }\n",
              "\n",
              "  .colab-df-quickchart:hover {\n",
              "    background-color: var(--hover-bg-color);\n",
              "    box-shadow: 0 1px 2px rgba(60, 64, 67, 0.3), 0 1px 3px 1px rgba(60, 64, 67, 0.15);\n",
              "    fill: var(--button-hover-fill-color);\n",
              "  }\n",
              "\n",
              "  .colab-df-quickchart-complete:disabled,\n",
              "  .colab-df-quickchart-complete:disabled:hover {\n",
              "    background-color: var(--disabled-bg-color);\n",
              "    fill: var(--disabled-fill-color);\n",
              "    box-shadow: none;\n",
              "  }\n",
              "\n",
              "  .colab-df-spinner {\n",
              "    border: 2px solid var(--fill-color);\n",
              "    border-color: transparent;\n",
              "    border-bottom-color: var(--fill-color);\n",
              "    animation:\n",
              "      spin 1s steps(1) infinite;\n",
              "  }\n",
              "\n",
              "  @keyframes spin {\n",
              "    0% {\n",
              "      border-color: transparent;\n",
              "      border-bottom-color: var(--fill-color);\n",
              "      border-left-color: var(--fill-color);\n",
              "    }\n",
              "    20% {\n",
              "      border-color: transparent;\n",
              "      border-left-color: var(--fill-color);\n",
              "      border-top-color: var(--fill-color);\n",
              "    }\n",
              "    30% {\n",
              "      border-color: transparent;\n",
              "      border-left-color: var(--fill-color);\n",
              "      border-top-color: var(--fill-color);\n",
              "      border-right-color: var(--fill-color);\n",
              "    }\n",
              "    40% {\n",
              "      border-color: transparent;\n",
              "      border-right-color: var(--fill-color);\n",
              "      border-top-color: var(--fill-color);\n",
              "    }\n",
              "    60% {\n",
              "      border-color: transparent;\n",
              "      border-right-color: var(--fill-color);\n",
              "    }\n",
              "    80% {\n",
              "      border-color: transparent;\n",
              "      border-right-color: var(--fill-color);\n",
              "      border-bottom-color: var(--fill-color);\n",
              "    }\n",
              "    90% {\n",
              "      border-color: transparent;\n",
              "      border-bottom-color: var(--fill-color);\n",
              "    }\n",
              "  }\n",
              "</style>\n",
              "\n",
              "  <script>\n",
              "    async function quickchart(key) {\n",
              "      const quickchartButtonEl =\n",
              "        document.querySelector('#' + key + ' button');\n",
              "      quickchartButtonEl.disabled = true;  // To prevent multiple clicks.\n",
              "      quickchartButtonEl.classList.add('colab-df-spinner');\n",
              "      try {\n",
              "        const charts = await google.colab.kernel.invokeFunction(\n",
              "            'suggestCharts', [key], {});\n",
              "      } catch (error) {\n",
              "        console.error('Error during call to suggestCharts:', error);\n",
              "      }\n",
              "      quickchartButtonEl.classList.remove('colab-df-spinner');\n",
              "      quickchartButtonEl.classList.add('colab-df-quickchart-complete');\n",
              "    }\n",
              "    (() => {\n",
              "      let quickchartButtonEl =\n",
              "        document.querySelector('#df-ea0eb86d-52d6-4b03-8b96-1c44e4f98a0a button');\n",
              "      quickchartButtonEl.style.display =\n",
              "        google.colab.kernel.accessAllowed ? 'block' : 'none';\n",
              "    })();\n",
              "  </script>\n",
              "</div>\n",
              "\n",
              "    </div>\n",
              "  </div>\n"
            ],
            "application/vnd.google.colaboratory.intrinsic+json": {
              "type": "dataframe",
              "summary": "{\n  \"name\": \"assess_model_metrics('Random Forest Classifier', random_forest_model, train_X_tfidf, train_targets, test_X_tfidf, test_targets)\",\n  \"rows\": 3,\n  \"fields\": [\n    {\n      \"column\": \"Training\",\n      \"properties\": {\n        \"dtype\": \"number\",\n        \"std\": 0.0,\n        \"min\": 1.0,\n        \"max\": 1.0,\n        \"num_unique_values\": 1,\n        \"samples\": [\n          1.0\n        ],\n        \"semantic_type\": \"\",\n        \"description\": \"\"\n      }\n    },\n    {\n      \"column\": \"Testing\",\n      \"properties\": {\n        \"dtype\": \"number\",\n        \"std\": 0.046188021535170105,\n        \"min\": 0.85,\n        \"max\": 0.93,\n        \"num_unique_values\": 2,\n        \"samples\": [\n          0.93\n        ],\n        \"semantic_type\": \"\",\n        \"description\": \"\"\n      }\n    }\n  ]\n}"
            }
          },
          "metadata": {}
        }
      ],
      "source": [
        "# Instantiate and train a Random Forest classifier.\n",
        "random_forest_model = RandomForestClassifier(random_state=12345)\n",
        "random_forest_model.fit(train_X_tfidf, train_targets)\n",
        "\n",
        "# Assess the performance of the Random Forest classifier.\n",
        "assess_model_metrics('Random Forest Classifier', random_forest_model, train_X_tfidf, train_targets, test_X_tfidf, test_targets)"
      ]
    },
    {
      "cell_type": "markdown",
      "source": [
        "## Conclusion"
      ],
      "metadata": {
        "id": "DvUmHtf0Ink3"
      }
    },
    {
      "cell_type": "markdown",
      "source": [
        "Our results of training and evaluating three different models(Logistic Regression, LGBM classifier and Random Forest Classifier) show that Logistic Regression is the most reliable across both training and real-world scenarios, with high scores for accuracy and consistency. It performed well, not just on the data it was trained on but also on new, unseen data.\n",
        "\n",
        "The LGBM Classifier also performed well, though it slightly lagged behind Logistic Regression in terms of accuracy and the ability to distinguish between classes effectively. It’s a good option if you’re looking for something robust yet slightly less perfect than the Logistic Regression.\n",
        "\n",
        "On the other hand, the Random Forest Classifier was perfect in the training phase, where it knew the data but struggled to maintain this performance on new data. This suggests that while it learned the training data extremely well, it wasn’t as good at applying what it learned to new situations.\n",
        "\n",
        "In summary, Logistic Regression is the best choice for reliable and consistent performance across different datasets, making it the top pick for applications where it’s crucial to predict accurately on new, unseen data."
      ],
      "metadata": {
        "id": "TfGaM-u0Irct"
      }
    }
  ],
  "metadata": {
    "ExecuteTimeLog": [
      {
        "duration": 2264,
        "start_time": "2021-07-29T10:51:23.579Z"
      },
      {
        "duration": 41,
        "start_time": "2021-07-29T10:51:25.847Z"
      },
      {
        "duration": 7979,
        "start_time": "2021-07-29T10:51:30.316Z"
      },
      {
        "duration": 3,
        "start_time": "2021-07-29T10:51:57.302Z"
      },
      {
        "duration": 3,
        "start_time": "2021-07-29T10:52:16.227Z"
      },
      {
        "duration": 27,
        "start_time": "2021-07-29T10:52:45.496Z"
      },
      {
        "duration": 36,
        "start_time": "2021-07-29T10:53:08.875Z"
      },
      {
        "duration": 23,
        "start_time": "2021-07-29T11:05:26.983Z"
      },
      {
        "duration": 22,
        "start_time": "2021-07-29T12:02:00.365Z"
      },
      {
        "duration": 32,
        "start_time": "2021-07-29T12:12:49.605Z"
      },
      {
        "duration": 63,
        "start_time": "2021-07-29T12:13:28.734Z"
      },
      {
        "duration": 567,
        "start_time": "2021-07-29T12:13:39.455Z"
      },
      {
        "duration": 30,
        "start_time": "2021-07-29T12:14:10.520Z"
      },
      {
        "duration": 288,
        "start_time": "2021-07-29T12:14:18.005Z"
      },
      {
        "duration": 9,
        "start_time": "2021-07-29T12:14:33.008Z"
      },
      {
        "duration": 8,
        "start_time": "2021-07-29T12:14:38.835Z"
      },
      {
        "duration": 9,
        "start_time": "2021-07-29T12:14:54.713Z"
      },
      {
        "duration": 10,
        "start_time": "2021-07-29T12:15:12.990Z"
      },
      {
        "duration": 6,
        "start_time": "2021-07-29T12:15:31.195Z"
      },
      {
        "duration": 7,
        "start_time": "2021-07-29T12:15:36.203Z"
      },
      {
        "duration": 6,
        "start_time": "2021-07-29T12:16:13.991Z"
      },
      {
        "duration": 270,
        "start_time": "2021-07-29T12:18:32.737Z"
      },
      {
        "duration": 12,
        "start_time": "2021-07-29T12:18:39.825Z"
      },
      {
        "duration": 41,
        "start_time": "2021-07-29T12:18:51.026Z"
      },
      {
        "duration": 664,
        "start_time": "2021-07-29T12:19:32.894Z"
      },
      {
        "duration": 13,
        "start_time": "2021-07-29T12:19:41.130Z"
      },
      {
        "duration": 15,
        "start_time": "2021-07-29T12:19:47.020Z"
      },
      {
        "duration": 283,
        "start_time": "2021-07-29T12:19:57.923Z"
      },
      {
        "duration": 15,
        "start_time": "2021-07-29T12:20:09.700Z"
      },
      {
        "duration": 12,
        "start_time": "2021-07-29T12:20:11.963Z"
      },
      {
        "duration": 319,
        "start_time": "2021-07-29T12:21:19.615Z"
      },
      {
        "duration": 275,
        "start_time": "2021-07-29T12:21:27.587Z"
      },
      {
        "duration": 262,
        "start_time": "2021-07-29T12:22:42.541Z"
      },
      {
        "duration": 263,
        "start_time": "2021-07-29T12:22:49.681Z"
      },
      {
        "duration": 313,
        "start_time": "2021-07-29T12:23:08.855Z"
      },
      {
        "duration": 274,
        "start_time": "2021-07-29T12:23:13.907Z"
      },
      {
        "duration": 170,
        "start_time": "2021-07-29T12:23:30.452Z"
      },
      {
        "duration": 93,
        "start_time": "2021-07-29T12:24:10.669Z"
      },
      {
        "duration": 329,
        "start_time": "2021-07-29T12:24:15.550Z"
      },
      {
        "duration": 5033,
        "start_time": "2021-07-29T12:24:24.148Z"
      },
      {
        "duration": 13,
        "start_time": "2021-07-29T12:24:50.085Z"
      },
      {
        "duration": 15,
        "start_time": "2021-07-29T12:24:59.353Z"
      },
      {
        "duration": 265,
        "start_time": "2021-07-29T12:26:16.053Z"
      },
      {
        "duration": 33,
        "start_time": "2021-07-29T12:26:21.214Z"
      },
      {
        "duration": 35,
        "start_time": "2021-07-29T12:26:52.535Z"
      },
      {
        "duration": 89,
        "start_time": "2021-07-29T12:28:33.745Z"
      },
      {
        "duration": 262,
        "start_time": "2021-07-29T12:28:48.803Z"
      },
      {
        "duration": 262,
        "start_time": "2021-07-29T12:29:44.105Z"
      },
      {
        "duration": 262,
        "start_time": "2021-07-29T12:29:56.400Z"
      },
      {
        "duration": 95,
        "start_time": "2021-07-29T12:30:04.291Z"
      },
      {
        "duration": 428,
        "start_time": "2021-07-29T12:30:06.683Z"
      },
      {
        "duration": 326,
        "start_time": "2021-07-29T12:31:15.783Z"
      },
      {
        "duration": 290,
        "start_time": "2021-07-29T12:50:31.537Z"
      },
      {
        "duration": 232,
        "start_time": "2021-07-29T12:50:41.182Z"
      },
      {
        "duration": 6,
        "start_time": "2021-07-29T12:50:44.769Z"
      },
      {
        "duration": 247,
        "start_time": "2021-07-29T12:50:56.295Z"
      },
      {
        "duration": 91,
        "start_time": "2021-07-29T12:52:13.309Z"
      },
      {
        "duration": 6,
        "start_time": "2021-07-29T12:52:15.263Z"
      },
      {
        "duration": 40,
        "start_time": "2021-07-29T12:53:48.324Z"
      },
      {
        "duration": 35,
        "start_time": "2021-07-29T12:53:57.905Z"
      },
      {
        "duration": 328,
        "start_time": "2021-07-29T12:54:04.163Z"
      },
      {
        "duration": 281,
        "start_time": "2021-07-29T12:54:11.965Z"
      },
      {
        "duration": 36,
        "start_time": "2021-07-29T12:54:27.884Z"
      },
      {
        "duration": 330,
        "start_time": "2021-07-29T12:55:10.733Z"
      },
      {
        "duration": 321,
        "start_time": "2021-07-29T12:55:17.690Z"
      },
      {
        "duration": 35,
        "start_time": "2021-07-29T12:55:22.985Z"
      },
      {
        "duration": 5,
        "start_time": "2021-07-29T13:02:22.918Z"
      },
      {
        "duration": 4,
        "start_time": "2021-07-29T13:04:04.365Z"
      },
      {
        "duration": 7,
        "start_time": "2021-07-29T13:04:17.839Z"
      },
      {
        "duration": 10306,
        "start_time": "2021-07-29T13:04:56.443Z"
      },
      {
        "duration": 6,
        "start_time": "2021-07-29T13:05:17.291Z"
      },
      {
        "duration": 900,
        "start_time": "2021-07-29T13:05:30.461Z"
      },
      {
        "duration": 25,
        "start_time": "2021-07-29T13:05:31.364Z"
      },
      {
        "duration": 34,
        "start_time": "2021-07-29T13:05:32.684Z"
      },
      {
        "duration": 270,
        "start_time": "2021-07-29T13:05:34.824Z"
      },
      {
        "duration": 42,
        "start_time": "2021-07-29T13:05:35.847Z"
      },
      {
        "duration": 5,
        "start_time": "2021-07-29T13:05:37.526Z"
      },
      {
        "duration": 8,
        "start_time": "2021-07-29T13:05:38.858Z"
      },
      {
        "duration": 5511,
        "start_time": "2021-07-29T13:05:39.790Z"
      },
      {
        "duration": 7,
        "start_time": "2021-07-29T13:05:45.303Z"
      },
      {
        "duration": 270,
        "start_time": "2021-07-29T13:07:08.642Z"
      },
      {
        "duration": 268,
        "start_time": "2021-07-29T13:07:12.905Z"
      },
      {
        "duration": 251,
        "start_time": "2021-07-29T13:07:16.152Z"
      },
      {
        "duration": 182,
        "start_time": "2021-07-29T13:07:21.145Z"
      },
      {
        "duration": 259,
        "start_time": "2021-07-29T13:07:31.922Z"
      },
      {
        "duration": 253,
        "start_time": "2021-07-29T13:08:12.149Z"
      },
      {
        "duration": 4642,
        "start_time": "2021-07-29T13:08:18.714Z"
      },
      {
        "duration": 7,
        "start_time": "2021-07-29T13:08:23.360Z"
      },
      {
        "duration": 4918,
        "start_time": "2021-07-29T13:08:36.920Z"
      },
      {
        "duration": 5,
        "start_time": "2021-07-29T13:08:43.084Z"
      },
      {
        "duration": 535,
        "start_time": "2021-07-29T13:08:53.024Z"
      },
      {
        "duration": 4305,
        "start_time": "2021-07-29T13:18:29.881Z"
      },
      {
        "duration": 3996,
        "start_time": "2021-07-29T13:18:53.809Z"
      },
      {
        "duration": 4770,
        "start_time": "2021-07-29T13:19:16.459Z"
      },
      {
        "duration": 7723,
        "start_time": "2021-07-29T13:19:29.521Z"
      },
      {
        "duration": 8118,
        "start_time": "2021-07-29T13:19:57.617Z"
      },
      {
        "duration": -827,
        "start_time": "2021-07-29T13:20:40.460Z"
      },
      {
        "duration": 8384,
        "start_time": "2021-07-29T13:20:45.149Z"
      },
      {
        "duration": 7564,
        "start_time": "2021-07-29T13:21:34.523Z"
      },
      {
        "duration": 8847,
        "start_time": "2021-07-29T13:23:43.932Z"
      },
      {
        "duration": 9463,
        "start_time": "2021-07-29T13:24:03.734Z"
      },
      {
        "duration": 8933,
        "start_time": "2021-07-29T13:24:52.013Z"
      },
      {
        "duration": 8891,
        "start_time": "2021-07-29T13:25:16.403Z"
      },
      {
        "duration": 4403,
        "start_time": "2021-07-29T13:25:29.075Z"
      },
      {
        "duration": 8926,
        "start_time": "2021-07-29T13:25:41.415Z"
      },
      {
        "duration": 8715,
        "start_time": "2021-07-29T13:26:47.722Z"
      },
      {
        "duration": 9205,
        "start_time": "2021-07-29T13:27:09.446Z"
      },
      {
        "duration": 9305,
        "start_time": "2021-07-29T13:27:34.665Z"
      },
      {
        "duration": 16,
        "start_time": "2021-07-29T13:31:13.593Z"
      },
      {
        "duration": 9293,
        "start_time": "2021-07-29T13:34:00.894Z"
      },
      {
        "duration": 9213,
        "start_time": "2021-07-29T13:34:38.734Z"
      },
      {
        "duration": 9068,
        "start_time": "2021-07-29T13:35:58.274Z"
      },
      {
        "duration": 4520,
        "start_time": "2021-07-29T13:36:27.995Z"
      },
      {
        "duration": 99,
        "start_time": "2021-07-29T13:36:44.892Z"
      },
      {
        "duration": 9318,
        "start_time": "2021-07-29T13:36:56.057Z"
      },
      {
        "duration": 4166,
        "start_time": "2021-07-29T13:38:23.468Z"
      },
      {
        "duration": 8529,
        "start_time": "2021-07-29T13:38:33.953Z"
      },
      {
        "duration": 12,
        "start_time": "2021-07-29T13:39:27.137Z"
      },
      {
        "duration": 9176,
        "start_time": "2021-07-29T13:39:56.063Z"
      },
      {
        "duration": 9259,
        "start_time": "2021-07-29T13:41:00.702Z"
      },
      {
        "duration": 9356,
        "start_time": "2021-07-29T13:41:17.398Z"
      },
      {
        "duration": 9706,
        "start_time": "2021-07-29T13:42:09.732Z"
      },
      {
        "duration": 9408,
        "start_time": "2021-07-29T13:42:26.693Z"
      },
      {
        "duration": 9305,
        "start_time": "2021-07-29T13:43:12.169Z"
      },
      {
        "duration": 8867,
        "start_time": "2021-07-29T13:43:51.107Z"
      },
      {
        "duration": 8948,
        "start_time": "2021-07-29T13:45:39.887Z"
      },
      {
        "duration": 1715,
        "start_time": "2021-07-29T13:46:10.601Z"
      },
      {
        "duration": 9412,
        "start_time": "2021-07-29T13:46:14.526Z"
      },
      {
        "duration": 8978,
        "start_time": "2021-07-29T13:47:35.145Z"
      },
      {
        "duration": 9359,
        "start_time": "2021-07-29T13:48:02.906Z"
      },
      {
        "duration": 9039,
        "start_time": "2021-07-29T13:48:54.398Z"
      },
      {
        "duration": 5364,
        "start_time": "2021-07-29T13:50:32.479Z"
      },
      {
        "duration": 5506,
        "start_time": "2021-07-29T13:50:45.741Z"
      },
      {
        "duration": 9481,
        "start_time": "2021-07-29T13:51:52.577Z"
      },
      {
        "duration": 9115,
        "start_time": "2021-07-29T13:52:14.734Z"
      },
      {
        "duration": 8846,
        "start_time": "2021-07-29T13:52:31.788Z"
      },
      {
        "duration": 9062,
        "start_time": "2021-07-29T13:52:47.209Z"
      },
      {
        "duration": 9215,
        "start_time": "2021-07-29T13:53:18.102Z"
      },
      {
        "duration": 9157,
        "start_time": "2021-07-29T13:53:36.751Z"
      },
      {
        "duration": 9448,
        "start_time": "2021-07-29T15:00:01.122Z"
      },
      {
        "duration": 9378,
        "start_time": "2021-07-29T15:01:06.707Z"
      },
      {
        "duration": 8994,
        "start_time": "2021-07-29T15:01:57.687Z"
      },
      {
        "duration": 8938,
        "start_time": "2021-07-29T15:02:23.854Z"
      },
      {
        "duration": 8977,
        "start_time": "2021-07-29T15:03:33.079Z"
      },
      {
        "duration": 10,
        "start_time": "2021-07-29T15:05:13.806Z"
      },
      {
        "duration": 11,
        "start_time": "2021-07-29T15:05:23.240Z"
      },
      {
        "duration": 13,
        "start_time": "2021-07-29T15:05:51.642Z"
      },
      {
        "duration": 20,
        "start_time": "2021-07-29T15:06:00.424Z"
      },
      {
        "duration": 9,
        "start_time": "2021-07-29T15:06:08.312Z"
      },
      {
        "duration": 9070,
        "start_time": "2021-07-29T15:07:20.736Z"
      },
      {
        "duration": 9122,
        "start_time": "2021-07-29T15:07:56.339Z"
      },
      {
        "duration": 28,
        "start_time": "2021-07-29T15:14:45.101Z"
      },
      {
        "duration": 8965,
        "start_time": "2021-07-29T15:17:18.157Z"
      },
      {
        "duration": 25,
        "start_time": "2021-07-29T15:18:47.824Z"
      },
      {
        "duration": 26,
        "start_time": "2021-07-29T15:18:53.472Z"
      },
      {
        "duration": 36,
        "start_time": "2021-07-29T15:19:02.088Z"
      },
      {
        "duration": 2003,
        "start_time": "2021-07-29T15:22:10.356Z"
      },
      {
        "duration": 2332,
        "start_time": "2021-07-29T15:22:38.817Z"
      },
      {
        "duration": 2133,
        "start_time": "2021-07-29T15:22:48.883Z"
      },
      {
        "duration": 2274,
        "start_time": "2021-07-29T15:22:56.020Z"
      },
      {
        "duration": 2236,
        "start_time": "2021-07-29T15:23:04.771Z"
      },
      {
        "duration": 2326,
        "start_time": "2021-07-29T15:23:12.710Z"
      },
      {
        "duration": 2264,
        "start_time": "2021-07-29T15:23:18.697Z"
      },
      {
        "duration": 1879,
        "start_time": "2021-07-29T15:23:33.027Z"
      },
      {
        "duration": 1615,
        "start_time": "2021-07-29T15:23:44.382Z"
      },
      {
        "duration": 1955,
        "start_time": "2021-07-29T15:24:15.089Z"
      },
      {
        "duration": 89,
        "start_time": "2021-07-29T15:24:24.893Z"
      },
      {
        "duration": 1926,
        "start_time": "2021-07-29T15:24:29.183Z"
      },
      {
        "duration": 2149,
        "start_time": "2021-07-29T15:24:40.117Z"
      },
      {
        "duration": 2036,
        "start_time": "2021-07-29T15:24:59.069Z"
      },
      {
        "duration": 2099,
        "start_time": "2021-07-29T15:25:05.990Z"
      },
      {
        "duration": 1943,
        "start_time": "2021-07-29T15:25:13.030Z"
      },
      {
        "duration": 7041,
        "start_time": "2021-07-29T15:34:50.370Z"
      },
      {
        "duration": 28,
        "start_time": "2021-07-29T15:38:16.451Z"
      },
      {
        "duration": 26,
        "start_time": "2021-07-29T15:38:25.861Z"
      },
      {
        "duration": 24,
        "start_time": "2021-07-29T15:38:33.221Z"
      },
      {
        "duration": 55,
        "start_time": "2021-07-29T15:38:42.462Z"
      },
      {
        "duration": 34,
        "start_time": "2021-07-29T15:39:41.177Z"
      },
      {
        "duration": 30,
        "start_time": "2021-07-29T15:39:51.131Z"
      },
      {
        "duration": 276,
        "start_time": "2021-07-29T15:40:18.821Z"
      },
      {
        "duration": 287,
        "start_time": "2021-07-29T15:40:42.319Z"
      },
      {
        "duration": 31,
        "start_time": "2021-07-29T15:40:48.847Z"
      },
      {
        "duration": 31,
        "start_time": "2021-07-29T15:42:21.175Z"
      },
      {
        "duration": 294,
        "start_time": "2021-07-29T15:42:27.695Z"
      },
      {
        "duration": 85,
        "start_time": "2021-07-29T15:42:35.552Z"
      },
      {
        "duration": 31,
        "start_time": "2021-07-29T15:42:38.114Z"
      },
      {
        "duration": 698,
        "start_time": "2021-07-29T15:42:56.492Z"
      },
      {
        "duration": 1505,
        "start_time": "2021-07-29T15:43:32.243Z"
      },
      {
        "duration": 590,
        "start_time": "2021-07-29T15:43:42.895Z"
      },
      {
        "duration": 670,
        "start_time": "2021-07-29T15:43:54.941Z"
      },
      {
        "duration": 1191,
        "start_time": "2021-07-29T15:44:32.163Z"
      },
      {
        "duration": 885,
        "start_time": "2021-07-29T15:44:38.332Z"
      },
      {
        "duration": 894,
        "start_time": "2021-07-29T15:45:38.770Z"
      },
      {
        "duration": 285,
        "start_time": "2021-07-29T15:46:15.027Z"
      },
      {
        "duration": 296,
        "start_time": "2021-07-29T15:46:24.827Z"
      },
      {
        "duration": 1014,
        "start_time": "2021-07-29T15:46:44.443Z"
      },
      {
        "duration": 1023,
        "start_time": "2021-07-29T15:48:27.774Z"
      },
      {
        "duration": 847,
        "start_time": "2021-07-29T15:49:35.926Z"
      },
      {
        "duration": 887,
        "start_time": "2021-07-29T15:50:19.172Z"
      },
      {
        "duration": 1120,
        "start_time": "2021-07-29T15:50:42.867Z"
      },
      {
        "duration": 867,
        "start_time": "2021-07-29T15:50:47.859Z"
      },
      {
        "duration": 975,
        "start_time": "2021-07-29T15:51:24.211Z"
      },
      {
        "duration": 1203,
        "start_time": "2021-07-29T15:51:42.628Z"
      },
      {
        "duration": 858,
        "start_time": "2021-07-29T15:51:47.952Z"
      },
      {
        "duration": 274,
        "start_time": "2021-07-29T15:56:26.883Z"
      },
      {
        "duration": 892,
        "start_time": "2021-07-29T15:56:36.717Z"
      },
      {
        "duration": 7,
        "start_time": "2021-07-29T15:56:52.118Z"
      },
      {
        "duration": 10,
        "start_time": "2021-07-29T15:56:58.941Z"
      },
      {
        "duration": 940,
        "start_time": "2021-07-29T15:57:33.299Z"
      },
      {
        "duration": 49,
        "start_time": "2021-07-29T15:57:36.535Z"
      },
      {
        "duration": 5,
        "start_time": "2021-07-29T15:57:57.763Z"
      },
      {
        "duration": 30,
        "start_time": "2021-07-29T15:57:57.896Z"
      },
      {
        "duration": 831,
        "start_time": "2021-07-29T15:57:58.236Z"
      },
      {
        "duration": 23,
        "start_time": "2021-07-29T15:57:59.070Z"
      },
      {
        "duration": 59,
        "start_time": "2021-07-29T15:57:59.095Z"
      },
      {
        "duration": 256,
        "start_time": "2021-07-29T15:57:59.246Z"
      },
      {
        "duration": 49,
        "start_time": "2021-07-29T15:57:59.505Z"
      },
      {
        "duration": 4980,
        "start_time": "2021-07-29T15:58:01.967Z"
      },
      {
        "duration": 8887,
        "start_time": "2021-07-29T15:58:06.954Z"
      },
      {
        "duration": 1927,
        "start_time": "2021-07-29T15:58:15.843Z"
      },
      {
        "duration": 50,
        "start_time": "2021-07-29T15:58:22.021Z"
      },
      {
        "duration": 316,
        "start_time": "2021-07-29T15:58:25.116Z"
      },
      {
        "duration": 881,
        "start_time": "2021-07-29T15:58:52.948Z"
      },
      {
        "duration": 258,
        "start_time": "2021-07-29T15:59:03.746Z"
      },
      {
        "duration": 43,
        "start_time": "2021-07-29T15:59:08.254Z"
      },
      {
        "duration": 87,
        "start_time": "2021-07-29T16:00:04.163Z"
      },
      {
        "duration": 272,
        "start_time": "2021-07-29T16:00:16.448Z"
      },
      {
        "duration": 47,
        "start_time": "2021-07-29T16:00:58.091Z"
      },
      {
        "duration": 6,
        "start_time": "2021-07-29T16:02:01.404Z"
      },
      {
        "duration": 10,
        "start_time": "2021-07-29T16:02:06.579Z"
      },
      {
        "duration": 281,
        "start_time": "2021-07-29T16:03:39.771Z"
      },
      {
        "duration": 1442,
        "start_time": "2021-07-29T16:03:58.647Z"
      },
      {
        "duration": 2059,
        "start_time": "2021-07-29T16:04:31.844Z"
      },
      {
        "duration": 2281,
        "start_time": "2021-07-29T16:05:29.778Z"
      },
      {
        "duration": 2252,
        "start_time": "2021-07-29T16:05:41.494Z"
      },
      {
        "duration": 2156,
        "start_time": "2021-07-29T16:05:46.736Z"
      },
      {
        "duration": 2052,
        "start_time": "2021-07-29T16:07:57.359Z"
      },
      {
        "duration": 2053,
        "start_time": "2021-07-29T16:08:06.486Z"
      },
      {
        "duration": 2310,
        "start_time": "2021-07-29T16:08:15.447Z"
      },
      {
        "duration": 8486,
        "start_time": "2021-07-29T16:08:35.587Z"
      },
      {
        "duration": 9066,
        "start_time": "2021-07-29T16:08:57.763Z"
      },
      {
        "duration": 9020,
        "start_time": "2021-07-29T16:09:37.938Z"
      },
      {
        "duration": 1970,
        "start_time": "2021-07-29T16:10:20.227Z"
      },
      {
        "duration": 2148,
        "start_time": "2021-07-29T16:10:41.678Z"
      },
      {
        "duration": 1440,
        "start_time": "2021-07-29T18:36:46.117Z"
      },
      {
        "duration": 47,
        "start_time": "2021-07-29T18:36:47.560Z"
      },
      {
        "duration": 1403,
        "start_time": "2021-07-29T18:36:47.611Z"
      },
      {
        "duration": 33,
        "start_time": "2021-07-29T18:36:49.017Z"
      },
      {
        "duration": 52,
        "start_time": "2021-07-29T18:36:49.053Z"
      },
      {
        "duration": 318,
        "start_time": "2021-07-29T18:36:49.108Z"
      },
      {
        "duration": 37,
        "start_time": "2021-07-29T18:36:49.428Z"
      },
      {
        "duration": 5026,
        "start_time": "2021-07-29T18:36:49.468Z"
      },
      {
        "duration": 8778,
        "start_time": "2021-07-29T18:36:54.497Z"
      },
      {
        "duration": 1826,
        "start_time": "2021-07-29T18:37:03.284Z"
      },
      {
        "duration": 1759,
        "start_time": "2021-07-29T18:37:05.113Z"
      },
      {
        "duration": 11,
        "start_time": "2021-07-29T18:45:48.709Z"
      },
      {
        "duration": 13,
        "start_time": "2021-07-29T18:45:57.557Z"
      },
      {
        "duration": 1540,
        "start_time": "2021-07-30T08:31:23.048Z"
      },
      {
        "duration": 40,
        "start_time": "2021-07-30T08:31:26.489Z"
      },
      {
        "duration": 868,
        "start_time": "2021-07-30T08:31:30.033Z"
      },
      {
        "duration": 1178,
        "start_time": "2021-07-30T08:32:17.341Z"
      },
      {
        "duration": 38,
        "start_time": "2021-07-30T08:32:51.024Z"
      },
      {
        "duration": 26,
        "start_time": "2021-07-30T08:32:58.427Z"
      },
      {
        "duration": 23,
        "start_time": "2021-07-30T08:33:04.993Z"
      },
      {
        "duration": 837,
        "start_time": "2021-07-30T08:33:15.939Z"
      },
      {
        "duration": 23,
        "start_time": "2021-07-30T08:33:18.404Z"
      },
      {
        "duration": 22,
        "start_time": "2021-07-30T08:33:41.889Z"
      },
      {
        "duration": 36,
        "start_time": "2021-07-30T08:33:44.643Z"
      },
      {
        "duration": 254,
        "start_time": "2021-07-30T08:33:47.385Z"
      },
      {
        "duration": 37,
        "start_time": "2021-07-30T08:33:48.571Z"
      },
      {
        "duration": 400,
        "start_time": "2021-07-30T10:12:20.268Z"
      },
      {
        "duration": 16,
        "start_time": "2021-07-30T10:12:26.100Z"
      },
      {
        "duration": 12,
        "start_time": "2021-07-30T10:12:34.122Z"
      },
      {
        "duration": 16,
        "start_time": "2021-07-30T10:13:32.032Z"
      },
      {
        "duration": 2334,
        "start_time": "2021-07-30T10:13:43.286Z"
      },
      {
        "duration": 114,
        "start_time": "2021-07-30T10:14:03.383Z"
      },
      {
        "duration": 4161,
        "start_time": "2021-07-30T10:14:09.572Z"
      },
      {
        "duration": 9,
        "start_time": "2021-07-30T10:14:42.075Z"
      },
      {
        "duration": 1399,
        "start_time": "2021-07-30T10:25:22.442Z"
      },
      {
        "duration": 1608,
        "start_time": "2021-07-30T10:25:30.380Z"
      },
      {
        "duration": 1727,
        "start_time": "2021-07-30T10:25:35.519Z"
      },
      {
        "duration": 1236,
        "start_time": "2021-07-30T10:26:21.592Z"
      },
      {
        "duration": 29,
        "start_time": "2021-07-30T10:34:50.115Z"
      },
      {
        "duration": 9,
        "start_time": "2021-07-30T10:34:55.073Z"
      },
      {
        "duration": 4,
        "start_time": "2021-07-30T11:10:09.330Z"
      },
      {
        "duration": 5,
        "start_time": "2021-07-30T11:10:13.109Z"
      },
      {
        "duration": 5012,
        "start_time": "2021-07-30T11:13:15.672Z"
      },
      {
        "duration": 2146,
        "start_time": "2021-07-30T11:15:24.888Z"
      },
      {
        "duration": 127,
        "start_time": "2021-07-30T11:15:50.922Z"
      },
      {
        "duration": 2178,
        "start_time": "2021-07-30T11:16:24.372Z"
      },
      {
        "duration": 5227,
        "start_time": "2021-07-30T11:16:40.082Z"
      },
      {
        "duration": 9152,
        "start_time": "2021-07-30T11:16:53.753Z"
      },
      {
        "duration": 9289,
        "start_time": "2021-07-30T11:17:09.234Z"
      },
      {
        "duration": 9488,
        "start_time": "2021-07-30T11:17:57.579Z"
      },
      {
        "duration": 9730,
        "start_time": "2021-07-30T11:18:17.603Z"
      },
      {
        "duration": 9727,
        "start_time": "2021-07-30T11:19:12.897Z"
      },
      {
        "duration": 9817,
        "start_time": "2021-07-30T11:19:33.519Z"
      },
      {
        "duration": 9662,
        "start_time": "2021-07-30T11:21:48.020Z"
      },
      {
        "duration": 5762,
        "start_time": "2021-07-30T11:22:37.972Z"
      },
      {
        "duration": 5,
        "start_time": "2021-07-30T11:23:28.949Z"
      },
      {
        "duration": 9615,
        "start_time": "2021-07-30T11:23:43.742Z"
      },
      {
        "duration": 112,
        "start_time": "2021-07-30T11:24:44.203Z"
      },
      {
        "duration": 353,
        "start_time": "2021-07-30T11:24:51.039Z"
      },
      {
        "duration": 341,
        "start_time": "2021-07-30T11:25:14.540Z"
      },
      {
        "duration": 326,
        "start_time": "2021-07-30T11:25:18.697Z"
      },
      {
        "duration": 346,
        "start_time": "2021-07-30T11:25:28.128Z"
      },
      {
        "duration": 548,
        "start_time": "2021-07-30T11:25:40.862Z"
      },
      {
        "duration": 396,
        "start_time": "2021-07-30T11:25:50.448Z"
      },
      {
        "duration": 9839,
        "start_time": "2021-07-30T11:27:47.030Z"
      },
      {
        "duration": 9692,
        "start_time": "2021-07-30T11:29:41.568Z"
      },
      {
        "duration": 9515,
        "start_time": "2021-07-30T11:30:15.524Z"
      },
      {
        "duration": 9527,
        "start_time": "2021-07-30T11:31:51.590Z"
      },
      {
        "duration": 9106,
        "start_time": "2021-07-30T11:33:21.835Z"
      },
      {
        "duration": 9712,
        "start_time": "2021-07-30T11:34:15.022Z"
      },
      {
        "duration": 11649,
        "start_time": "2021-07-30T11:34:33.752Z"
      },
      {
        "duration": 10124,
        "start_time": "2021-07-30T11:35:09.874Z"
      },
      {
        "duration": 10173,
        "start_time": "2021-07-30T11:35:59.274Z"
      },
      {
        "duration": 10003,
        "start_time": "2021-07-30T11:51:37.965Z"
      },
      {
        "duration": 1513,
        "start_time": "2021-07-31T08:36:46.322Z"
      },
      {
        "duration": 39,
        "start_time": "2021-07-31T08:36:47.838Z"
      },
      {
        "duration": 6508,
        "start_time": "2021-07-31T08:36:47.880Z"
      },
      {
        "duration": 26,
        "start_time": "2021-07-31T08:36:54.392Z"
      },
      {
        "duration": 52,
        "start_time": "2021-07-31T08:36:54.420Z"
      },
      {
        "duration": 261,
        "start_time": "2021-07-31T08:36:54.476Z"
      },
      {
        "duration": 39,
        "start_time": "2021-07-31T08:36:54.740Z"
      },
      {
        "duration": 4835,
        "start_time": "2021-07-31T08:36:54.781Z"
      },
      {
        "duration": 8720,
        "start_time": "2021-07-31T08:36:59.620Z"
      },
      {
        "duration": 11,
        "start_time": "2021-07-31T09:52:55.790Z"
      },
      {
        "duration": 1152,
        "start_time": "2021-07-31T09:53:03.765Z"
      },
      {
        "duration": 10307,
        "start_time": "2021-07-31T09:53:25.508Z"
      },
      {
        "duration": 40,
        "start_time": "2021-07-31T10:19:07.941Z"
      },
      {
        "duration": 22,
        "start_time": "2021-07-31T12:29:19.287Z"
      },
      {
        "duration": 1969,
        "start_time": "2021-07-31T12:46:43.599Z"
      },
      {
        "duration": 37,
        "start_time": "2021-07-31T12:46:45.571Z"
      },
      {
        "duration": 821,
        "start_time": "2021-07-31T12:46:45.611Z"
      },
      {
        "duration": 34,
        "start_time": "2021-07-31T12:46:46.434Z"
      },
      {
        "duration": 118,
        "start_time": "2021-07-31T12:46:46.471Z"
      },
      {
        "duration": 253,
        "start_time": "2021-07-31T12:46:46.795Z"
      },
      {
        "duration": 36,
        "start_time": "2021-07-31T12:46:48.978Z"
      },
      {
        "duration": 4968,
        "start_time": "2021-07-31T12:46:50.063Z"
      },
      {
        "duration": 9774,
        "start_time": "2021-07-31T12:47:00.371Z"
      },
      {
        "duration": 1941,
        "start_time": "2021-07-31T12:47:10.147Z"
      },
      {
        "duration": 2038,
        "start_time": "2021-07-31T12:47:12.091Z"
      },
      {
        "duration": 10,
        "start_time": "2021-07-31T12:47:14.131Z"
      },
      {
        "duration": 1569,
        "start_time": "2021-07-31T12:47:21.848Z"
      },
      {
        "duration": 9843,
        "start_time": "2021-07-31T12:47:23.419Z"
      },
      {
        "duration": 29,
        "start_time": "2021-07-31T12:47:33.266Z"
      },
      {
        "duration": 94,
        "start_time": "2021-07-31T12:55:44.169Z"
      },
      {
        "duration": 94,
        "start_time": "2021-07-31T12:56:04.549Z"
      },
      {
        "duration": 94,
        "start_time": "2021-07-31T12:56:42.217Z"
      },
      {
        "duration": 405,
        "start_time": "2021-07-31T12:58:12.111Z"
      },
      {
        "duration": 5,
        "start_time": "2021-07-31T12:58:17.655Z"
      },
      {
        "duration": 5,
        "start_time": "2021-07-31T12:58:24.532Z"
      },
      {
        "duration": 92,
        "start_time": "2021-07-31T12:58:39.498Z"
      },
      {
        "duration": 48,
        "start_time": "2021-07-31T12:58:54.524Z"
      },
      {
        "duration": 5,
        "start_time": "2021-07-31T12:59:10.184Z"
      },
      {
        "duration": 26,
        "start_time": "2021-07-31T13:00:07.264Z"
      },
      {
        "duration": 7,
        "start_time": "2021-07-31T13:00:15.686Z"
      },
      {
        "duration": 7,
        "start_time": "2021-07-31T13:00:20.195Z"
      },
      {
        "duration": 8,
        "start_time": "2021-07-31T13:00:24.804Z"
      },
      {
        "duration": 9,
        "start_time": "2021-07-31T13:00:29.515Z"
      },
      {
        "duration": 87,
        "start_time": "2021-07-31T13:00:46.657Z"
      },
      {
        "duration": 7,
        "start_time": "2021-07-31T13:00:50.105Z"
      },
      {
        "duration": 7,
        "start_time": "2021-07-31T13:01:00.137Z"
      },
      {
        "duration": 51,
        "start_time": "2021-07-31T13:01:41.630Z"
      },
      {
        "duration": 42,
        "start_time": "2021-07-31T13:06:08.797Z"
      },
      {
        "duration": 271,
        "start_time": "2021-07-31T13:10:05.509Z"
      },
      {
        "duration": 228,
        "start_time": "2021-07-31T13:10:20.661Z"
      },
      {
        "duration": 299,
        "start_time": "2021-07-31T13:10:26.099Z"
      },
      {
        "duration": 2168,
        "start_time": "2021-07-31T13:10:31.100Z"
      },
      {
        "duration": 22,
        "start_time": "2021-07-31T13:11:41.547Z"
      },
      {
        "duration": 2377,
        "start_time": "2021-07-31T13:11:44.398Z"
      },
      {
        "duration": 42,
        "start_time": "2021-07-31T13:12:09.243Z"
      },
      {
        "duration": 20,
        "start_time": "2021-07-31T13:12:14.734Z"
      },
      {
        "duration": 2221,
        "start_time": "2021-07-31T13:12:18.075Z"
      },
      {
        "duration": 22,
        "start_time": "2021-07-31T13:13:05.779Z"
      },
      {
        "duration": 2175,
        "start_time": "2021-07-31T13:13:16.213Z"
      },
      {
        "duration": 22,
        "start_time": "2021-07-31T13:13:36.433Z"
      },
      {
        "duration": 2135,
        "start_time": "2021-07-31T13:13:40.214Z"
      },
      {
        "duration": 22,
        "start_time": "2021-07-31T13:14:07.785Z"
      },
      {
        "duration": 2152,
        "start_time": "2021-07-31T13:14:10.484Z"
      },
      {
        "duration": 23,
        "start_time": "2021-07-31T13:14:27.487Z"
      },
      {
        "duration": 2217,
        "start_time": "2021-07-31T13:14:30.542Z"
      },
      {
        "duration": 24,
        "start_time": "2021-07-31T13:14:39.454Z"
      },
      {
        "duration": 2490,
        "start_time": "2021-07-31T13:34:28.090Z"
      },
      {
        "duration": 6,
        "start_time": "2021-07-31T13:46:20.336Z"
      },
      {
        "duration": 28,
        "start_time": "2021-07-31T13:46:20.449Z"
      },
      {
        "duration": 782,
        "start_time": "2021-07-31T13:46:20.704Z"
      },
      {
        "duration": 24,
        "start_time": "2021-07-31T13:46:21.489Z"
      },
      {
        "duration": 60,
        "start_time": "2021-07-31T13:46:21.517Z"
      },
      {
        "duration": 243,
        "start_time": "2021-07-31T13:46:21.729Z"
      },
      {
        "duration": 37,
        "start_time": "2021-07-31T13:46:21.978Z"
      },
      {
        "duration": 5120,
        "start_time": "2021-07-31T13:46:22.336Z"
      },
      {
        "duration": 9131,
        "start_time": "2021-07-31T13:46:27.458Z"
      },
      {
        "duration": 1722,
        "start_time": "2021-07-31T13:46:36.592Z"
      },
      {
        "duration": 1987,
        "start_time": "2021-07-31T13:46:38.317Z"
      },
      {
        "duration": 9,
        "start_time": "2021-07-31T13:46:40.306Z"
      },
      {
        "duration": 1165,
        "start_time": "2021-07-31T13:46:40.317Z"
      },
      {
        "duration": 9874,
        "start_time": "2021-07-31T13:46:41.485Z"
      },
      {
        "duration": 23,
        "start_time": "2021-07-31T13:46:51.362Z"
      },
      {
        "duration": 22,
        "start_time": "2021-07-31T13:48:17.630Z"
      },
      {
        "duration": 2278,
        "start_time": "2021-07-31T13:48:25.338Z"
      },
      {
        "duration": 236,
        "start_time": "2021-07-31T14:07:54.354Z"
      },
      {
        "duration": 10073,
        "start_time": "2021-07-31T14:16:36.949Z"
      },
      {
        "duration": 32,
        "start_time": "2021-07-31T14:17:31.596Z"
      },
      {
        "duration": 6,
        "start_time": "2021-07-31T14:17:40.918Z"
      },
      {
        "duration": 6,
        "start_time": "2021-07-31T14:17:57.629Z"
      },
      {
        "duration": 6,
        "start_time": "2021-07-31T14:18:02.085Z"
      },
      {
        "duration": 5,
        "start_time": "2021-07-31T14:18:08.837Z"
      },
      {
        "duration": 5,
        "start_time": "2021-07-31T14:18:18.070Z"
      },
      {
        "duration": 23,
        "start_time": "2021-07-31T14:18:25.428Z"
      },
      {
        "duration": 5,
        "start_time": "2021-07-31T14:20:10.397Z"
      },
      {
        "duration": 7530,
        "start_time": "2021-07-31T14:28:37.237Z"
      },
      {
        "duration": 1118,
        "start_time": "2021-07-31T14:32:16.893Z"
      },
      {
        "duration": 273,
        "start_time": "2021-07-31T14:32:47.313Z"
      },
      {
        "duration": 10223,
        "start_time": "2021-07-31T14:33:09.469Z"
      },
      {
        "duration": 1126,
        "start_time": "2021-07-31T14:33:19.695Z"
      },
      {
        "duration": 300,
        "start_time": "2021-07-31T14:33:20.824Z"
      },
      {
        "duration": 2360,
        "start_time": "2021-07-31T14:33:34.560Z"
      },
      {
        "duration": 6,
        "start_time": "2021-07-31T14:34:16.270Z"
      },
      {
        "duration": 29,
        "start_time": "2021-07-31T14:34:18.933Z"
      },
      {
        "duration": 2363,
        "start_time": "2021-07-31T14:34:33.142Z"
      },
      {
        "duration": 2466,
        "start_time": "2021-07-31T14:35:04.957Z"
      },
      {
        "duration": 2333,
        "start_time": "2021-07-31T14:37:33.278Z"
      },
      {
        "duration": 1176,
        "start_time": "2021-07-31T14:37:38.325Z"
      },
      {
        "duration": 2318,
        "start_time": "2021-07-31T14:37:40.917Z"
      },
      {
        "duration": 868,
        "start_time": "2021-07-31T14:59:13.383Z"
      },
      {
        "duration": 1908,
        "start_time": "2021-08-01T09:03:39.803Z"
      },
      {
        "duration": 38,
        "start_time": "2021-08-01T09:03:41.715Z"
      },
      {
        "duration": 11309,
        "start_time": "2021-08-01T09:03:41.756Z"
      },
      {
        "duration": 26,
        "start_time": "2021-08-01T09:03:53.067Z"
      },
      {
        "duration": 49,
        "start_time": "2021-08-01T09:03:53.095Z"
      },
      {
        "duration": 260,
        "start_time": "2021-08-01T09:03:53.146Z"
      },
      {
        "duration": 44,
        "start_time": "2021-08-01T09:03:53.409Z"
      },
      {
        "duration": 5669,
        "start_time": "2021-08-01T09:03:53.456Z"
      },
      {
        "duration": 9745,
        "start_time": "2021-08-01T09:03:59.129Z"
      },
      {
        "duration": 1934,
        "start_time": "2021-08-01T09:04:08.877Z"
      },
      {
        "duration": 2108,
        "start_time": "2021-08-01T09:04:10.814Z"
      },
      {
        "duration": 11,
        "start_time": "2021-08-01T09:04:12.925Z"
      },
      {
        "duration": 1457,
        "start_time": "2021-08-01T09:04:12.938Z"
      },
      {
        "duration": 12307,
        "start_time": "2021-08-01T09:04:14.408Z"
      },
      {
        "duration": 23,
        "start_time": "2021-08-01T09:04:26.719Z"
      },
      {
        "duration": 84,
        "start_time": "2021-08-01T09:04:26.744Z"
      },
      {
        "duration": 2521,
        "start_time": "2021-08-01T09:04:26.833Z"
      },
      {
        "duration": 15843,
        "start_time": "2021-08-01T09:04:29.357Z"
      },
      {
        "duration": 2440,
        "start_time": "2021-08-01T09:04:45.204Z"
      },
      {
        "duration": 6,
        "start_time": "2021-08-01T09:14:02.773Z"
      },
      {
        "duration": 297,
        "start_time": "2021-08-01T09:22:48.808Z"
      },
      {
        "duration": 4,
        "start_time": "2021-08-01T09:25:12.837Z"
      },
      {
        "duration": 1097,
        "start_time": "2021-08-01T09:25:23.438Z"
      },
      {
        "duration": 5,
        "start_time": "2021-08-01T09:25:30.916Z"
      },
      {
        "duration": 19,
        "start_time": "2021-08-01T09:25:31.193Z"
      },
      {
        "duration": 5,
        "start_time": "2021-08-01T09:26:33.891Z"
      },
      {
        "duration": 2595,
        "start_time": "2021-08-01T09:26:34.442Z"
      },
      {
        "duration": 5,
        "start_time": "2021-08-01T09:26:51.331Z"
      },
      {
        "duration": 6,
        "start_time": "2021-08-01T09:27:10.718Z"
      },
      {
        "duration": 147936,
        "start_time": "2021-08-01T09:31:10.335Z"
      },
      {
        "duration": 782,
        "start_time": "2021-08-01T10:24:54.423Z"
      },
      {
        "duration": 7,
        "start_time": "2021-08-01T10:25:10.176Z"
      },
      {
        "duration": 5948,
        "start_time": "2021-08-01T10:25:17.279Z"
      },
      {
        "duration": 4,
        "start_time": "2021-08-01T10:25:24.734Z"
      },
      {
        "duration": 726,
        "start_time": "2021-08-01T10:25:37.364Z"
      },
      {
        "duration": 7,
        "start_time": "2021-08-01T10:27:21.743Z"
      },
      {
        "duration": 8,
        "start_time": "2021-08-01T10:27:31.166Z"
      },
      {
        "duration": 67473,
        "start_time": "2021-08-01T10:27:48.527Z"
      },
      {
        "duration": 4,
        "start_time": "2021-08-01T10:30:50.477Z"
      },
      {
        "duration": 57388,
        "start_time": "2021-08-01T10:31:12.420Z"
      },
      {
        "duration": 7,
        "start_time": "2021-08-01T10:32:35.619Z"
      },
      {
        "duration": 55248,
        "start_time": "2021-08-01T10:33:18.655Z"
      },
      {
        "duration": 13417,
        "start_time": "2021-08-01T10:34:58.563Z"
      },
      {
        "duration": 4,
        "start_time": "2021-08-01T10:37:53.809Z"
      },
      {
        "duration": 116225,
        "start_time": "2021-08-01T10:37:54.025Z"
      },
      {
        "duration": 13328,
        "start_time": "2021-08-01T10:39:50.253Z"
      },
      {
        "duration": 1210,
        "start_time": "2021-08-01T13:24:55.570Z"
      },
      {
        "duration": 25,
        "start_time": "2021-08-01T13:24:56.781Z"
      },
      {
        "duration": 585,
        "start_time": "2021-08-01T13:24:56.807Z"
      },
      {
        "duration": 16,
        "start_time": "2021-08-01T13:24:57.393Z"
      },
      {
        "duration": 26,
        "start_time": "2021-08-01T13:24:57.411Z"
      },
      {
        "duration": 185,
        "start_time": "2021-08-01T13:24:57.440Z"
      },
      {
        "duration": 24,
        "start_time": "2021-08-01T13:24:57.627Z"
      },
      {
        "duration": 3617,
        "start_time": "2021-08-01T13:24:57.714Z"
      },
      {
        "duration": 5617,
        "start_time": "2021-08-01T13:25:01.333Z"
      },
      {
        "duration": 1097,
        "start_time": "2021-08-01T13:25:06.952Z"
      },
      {
        "duration": 1027,
        "start_time": "2021-08-01T13:25:08.051Z"
      },
      {
        "duration": 11,
        "start_time": "2021-08-01T13:25:09.080Z"
      },
      {
        "duration": 682,
        "start_time": "2021-08-01T13:25:09.092Z"
      },
      {
        "duration": 5401,
        "start_time": "2021-08-01T13:25:09.775Z"
      },
      {
        "duration": 22,
        "start_time": "2021-08-01T13:25:15.178Z"
      },
      {
        "duration": 33,
        "start_time": "2021-08-01T13:25:15.201Z"
      },
      {
        "duration": 1259,
        "start_time": "2021-08-01T13:25:15.235Z"
      },
      {
        "duration": 3,
        "start_time": "2021-08-01T13:25:16.495Z"
      },
      {
        "duration": 62133,
        "start_time": "2021-08-01T13:25:16.500Z"
      },
      {
        "duration": 7896,
        "start_time": "2021-08-01T13:26:18.635Z"
      },
      {
        "duration": 2377,
        "start_time": "2021-08-01T13:32:48.243Z"
      },
      {
        "duration": 1081,
        "start_time": "2021-08-01T13:40:17.497Z"
      },
      {
        "duration": 3,
        "start_time": "2021-08-01T13:40:21.988Z"
      },
      {
        "duration": 397,
        "start_time": "2021-08-01T13:42:07.729Z"
      },
      {
        "duration": 343444,
        "start_time": "2021-08-01T13:42:09.006Z"
      },
      {
        "duration": 72771,
        "start_time": "2021-08-01T13:49:26.600Z"
      },
      {
        "duration": -145,
        "start_time": "2021-08-01T13:50:39.518Z"
      },
      {
        "duration": -152,
        "start_time": "2021-08-01T13:50:39.526Z"
      },
      {
        "duration": 13,
        "start_time": "2021-08-01T13:50:41.499Z"
      },
      {
        "duration": 5,
        "start_time": "2021-08-01T13:50:48.694Z"
      },
      {
        "duration": 5216,
        "start_time": "2021-08-01T13:55:24.159Z"
      },
      {
        "duration": 3441,
        "start_time": "2021-08-02T09:23:16.031Z"
      },
      {
        "duration": 34,
        "start_time": "2021-08-02T09:23:19.475Z"
      },
      {
        "duration": 817,
        "start_time": "2021-08-02T09:23:19.512Z"
      },
      {
        "duration": 27,
        "start_time": "2021-08-02T09:23:20.331Z"
      },
      {
        "duration": 55,
        "start_time": "2021-08-02T09:23:20.361Z"
      },
      {
        "duration": 257,
        "start_time": "2021-08-02T09:23:20.418Z"
      },
      {
        "duration": 44,
        "start_time": "2021-08-02T09:23:20.677Z"
      },
      {
        "duration": 5114,
        "start_time": "2021-08-02T09:23:20.725Z"
      },
      {
        "duration": 9393,
        "start_time": "2021-08-02T09:23:25.842Z"
      },
      {
        "duration": 1840,
        "start_time": "2021-08-02T09:23:35.238Z"
      },
      {
        "duration": 1942,
        "start_time": "2021-08-02T09:23:37.081Z"
      },
      {
        "duration": 11,
        "start_time": "2021-08-02T09:23:39.025Z"
      },
      {
        "duration": 1268,
        "start_time": "2021-08-02T09:23:39.039Z"
      },
      {
        "duration": 9641,
        "start_time": "2021-08-02T09:23:40.312Z"
      },
      {
        "duration": 44,
        "start_time": "2021-08-02T09:23:49.956Z"
      },
      {
        "duration": 54,
        "start_time": "2021-08-02T09:23:50.003Z"
      },
      {
        "duration": 2351,
        "start_time": "2021-08-02T09:23:50.060Z"
      },
      {
        "duration": 5,
        "start_time": "2021-08-02T09:23:52.413Z"
      },
      {
        "duration": 116545,
        "start_time": "2021-08-02T09:23:52.420Z"
      },
      {
        "duration": 13238,
        "start_time": "2021-08-02T09:25:48.967Z"
      },
      {
        "duration": 1659,
        "start_time": "2021-08-02T09:26:02.208Z"
      },
      {
        "duration": 165068,
        "start_time": "2021-08-02T09:26:03.869Z"
      },
      {
        "duration": 587,
        "start_time": "2021-08-02T09:28:48.353Z"
      },
      {
        "duration": 554967,
        "start_time": "2021-08-02T09:28:54.242Z"
      },
      {
        "duration": 9494,
        "start_time": "2021-08-02T09:38:14.040Z"
      },
      {
        "duration": 223,
        "start_time": "2021-08-02T09:45:43.628Z"
      },
      {
        "duration": 37741,
        "start_time": "2021-08-02T09:49:47.014Z"
      },
      {
        "duration": 128700,
        "start_time": "2021-08-02T09:50:49.387Z"
      },
      {
        "duration": 11,
        "start_time": "2021-08-02T09:56:44.632Z"
      },
      {
        "duration": 376,
        "start_time": "2021-08-02T09:59:46.229Z"
      },
      {
        "duration": 351,
        "start_time": "2021-08-02T10:00:44.266Z"
      },
      {
        "duration": 5,
        "start_time": "2021-08-02T10:00:53.586Z"
      },
      {
        "duration": 3976,
        "start_time": "2021-08-02T10:02:45.143Z"
      },
      {
        "duration": 19765,
        "start_time": "2021-08-02T10:06:34.716Z"
      },
      {
        "duration": 712,
        "start_time": "2021-08-02T10:09:28.358Z"
      },
      {
        "duration": 378,
        "start_time": "2021-08-02T10:09:39.473Z"
      },
      {
        "duration": 383,
        "start_time": "2021-08-02T10:09:45.261Z"
      },
      {
        "duration": 556,
        "start_time": "2021-08-02T10:10:00.546Z"
      },
      {
        "duration": 128,
        "start_time": "2021-08-02T10:10:06.862Z"
      },
      {
        "duration": 73,
        "start_time": "2021-08-02T10:10:13.754Z"
      },
      {
        "duration": 6418,
        "start_time": "2021-08-02T10:28:24.496Z"
      },
      {
        "duration": 11,
        "start_time": "2021-08-02T10:30:55.491Z"
      },
      {
        "duration": 10,
        "start_time": "2021-08-02T10:31:31.219Z"
      },
      {
        "duration": 373,
        "start_time": "2021-08-02T10:31:41.578Z"
      },
      {
        "duration": 19244,
        "start_time": "2021-08-02T10:31:55.386Z"
      },
      {
        "duration": 378,
        "start_time": "2021-08-02T10:32:40.048Z"
      },
      {
        "duration": 12,
        "start_time": "2021-08-02T10:35:30.395Z"
      },
      {
        "duration": 50615,
        "start_time": "2021-08-02T10:35:31.230Z"
      },
      {
        "duration": 10,
        "start_time": "2021-08-02T10:36:28.427Z"
      },
      {
        "duration": 92669,
        "start_time": "2021-08-02T10:36:30.419Z"
      },
      {
        "duration": 604,
        "start_time": "2021-08-02T10:38:02.487Z"
      },
      {
        "duration": 21,
        "start_time": "2021-08-02T10:38:16.995Z"
      },
      {
        "duration": 192293,
        "start_time": "2021-08-02T10:38:17.433Z"
      },
      {
        "duration": 830,
        "start_time": "2021-08-02T10:42:54.786Z"
      },
      {
        "duration": 877,
        "start_time": "2021-08-02T10:44:35.621Z"
      },
      {
        "duration": 11,
        "start_time": "2021-08-02T10:45:07.653Z"
      },
      {
        "duration": 69845,
        "start_time": "2021-08-02T10:45:09.633Z"
      },
      {
        "duration": 440,
        "start_time": "2021-08-02T10:50:46.843Z"
      },
      {
        "duration": 7197,
        "start_time": "2021-08-02T10:50:53.931Z"
      },
      {
        "duration": 41,
        "start_time": "2021-08-02T10:51:01.131Z"
      },
      {
        "duration": 914,
        "start_time": "2021-08-02T10:51:01.175Z"
      },
      {
        "duration": 31,
        "start_time": "2021-08-02T10:51:02.092Z"
      },
      {
        "duration": 44,
        "start_time": "2021-08-02T10:51:02.126Z"
      },
      {
        "duration": 279,
        "start_time": "2021-08-02T10:51:02.172Z"
      },
      {
        "duration": 51,
        "start_time": "2021-08-02T10:51:02.453Z"
      },
      {
        "duration": 5125,
        "start_time": "2021-08-02T10:51:02.508Z"
      },
      {
        "duration": 8991,
        "start_time": "2021-08-02T10:51:07.637Z"
      },
      {
        "duration": 1773,
        "start_time": "2021-08-02T10:51:16.632Z"
      },
      {
        "duration": 2205,
        "start_time": "2021-08-02T10:51:18.408Z"
      },
      {
        "duration": 9,
        "start_time": "2021-08-02T10:51:20.616Z"
      },
      {
        "duration": 1176,
        "start_time": "2021-08-02T10:51:20.628Z"
      },
      {
        "duration": 9537,
        "start_time": "2021-08-02T10:51:21.807Z"
      },
      {
        "duration": 30,
        "start_time": "2021-08-02T10:51:31.347Z"
      },
      {
        "duration": 58,
        "start_time": "2021-08-02T10:51:31.380Z"
      },
      {
        "duration": 2178,
        "start_time": "2021-08-02T10:51:31.440Z"
      },
      {
        "duration": 5,
        "start_time": "2021-08-02T10:51:33.621Z"
      },
      {
        "duration": 115421,
        "start_time": "2021-08-02T10:51:33.629Z"
      },
      {
        "duration": 12976,
        "start_time": "2021-08-02T10:53:29.053Z"
      },
      {
        "duration": 1802,
        "start_time": "2021-08-02T10:53:42.032Z"
      },
      {
        "duration": 564364,
        "start_time": "2021-08-02T10:53:43.838Z"
      },
      {
        "duration": 9071,
        "start_time": "2021-08-02T11:03:08.204Z"
      },
      {
        "duration": 150334,
        "start_time": "2021-08-02T11:03:17.278Z"
      },
      {
        "duration": 13,
        "start_time": "2021-08-02T11:05:47.615Z"
      },
      {
        "duration": 19989,
        "start_time": "2021-08-02T11:05:47.631Z"
      },
      {
        "duration": 11,
        "start_time": "2021-08-02T11:06:07.622Z"
      },
      {
        "duration": 189938,
        "start_time": "2021-08-02T11:06:07.636Z"
      },
      {
        "duration": 191057,
        "start_time": "2021-08-02T11:10:08.695Z"
      },
      {
        "duration": 12,
        "start_time": "2021-08-02T11:13:24.435Z"
      },
      {
        "duration": 441,
        "start_time": "2021-08-02T11:17:24.236Z"
      }
    ],
    "kernelspec": {
      "display_name": "Python 3",
      "language": "python",
      "name": "python3"
    },
    "language_info": {
      "codemirror_mode": {
        "name": "ipython",
        "version": 3
      },
      "file_extension": ".py",
      "mimetype": "text/x-python",
      "name": "python",
      "nbconvert_exporter": "python",
      "pygments_lexer": "ipython3",
      "version": "3.8.5"
    },
    "toc": {
      "base_numbering": 1,
      "nav_menu": {},
      "number_sections": true,
      "sideBar": true,
      "skip_h1_title": true,
      "title_cell": "Table of Contents",
      "title_sidebar": "Contents",
      "toc_cell": true,
      "toc_position": {},
      "toc_section_display": true,
      "toc_window_display": false
    },
    "colab": {
      "provenance": []
    }
  },
  "nbformat": 4,
  "nbformat_minor": 0
}